{
 "cells": [
  {
   "cell_type": "markdown",
   "metadata": {},
   "source": [
    "# 2019 Health Care Ranking Feature Importance Calculator"
   ]
  },
  {
   "cell_type": "markdown",
   "metadata": {},
   "source": [
    "## Random Forest"
   ]
  },
  {
   "cell_type": "markdown",
   "metadata": {},
   "source": [
    "### Import Dependencies "
   ]
  },
  {
   "cell_type": "code",
   "execution_count": 3,
   "metadata": {},
   "outputs": [],
   "source": [
    "import matplotlib.pyplot as plt\n",
    "import numpy as np\n",
    "import pandas as pd\n",
    "\n",
    "## Import the random forest classifier model.\n",
    "from sklearn.ensemble import RandomForestClassifier\n",
    "\n",
    "## Import random forest regressor model\n",
    "from sklearn.ensemble import RandomForestRegressor\n",
    "\n",
    "## Import train_test_split\n",
    "from sklearn.model_selection import train_test_split\n",
    "\n",
    "## This line instantiates the model. \n",
    "rf = RandomForestClassifier() \n",
    "\n",
    "## Import to decode categorical columns.\n",
    "from sklearn.preprocessing import LabelEncoder, OneHotEncoder"
   ]
  },
  {
   "cell_type": "markdown",
   "metadata": {},
   "source": [
    "### Read the training csv file data into a pandas DataFrame"
   ]
  },
  {
   "cell_type": "code",
   "execution_count": 4,
   "metadata": {},
   "outputs": [
    {
     "name": "stderr",
     "output_type": "stream",
     "text": [
      "C:\\Users\\StevenJBark\\Anaconda3\\lib\\site-packages\\IPython\\core\\interactiveshell.py:3057: DtypeWarning: Columns (33) have mixed types. Specify dtype option on import or set low_memory=False.\n",
      "  interactivity=interactivity, compiler=compiler, result=result)\n"
     ]
    },
    {
     "data": {
      "text/html": [
       "<div>\n",
       "<style scoped>\n",
       "    .dataframe tbody tr th:only-of-type {\n",
       "        vertical-align: middle;\n",
       "    }\n",
       "\n",
       "    .dataframe tbody tr th {\n",
       "        vertical-align: top;\n",
       "    }\n",
       "\n",
       "    .dataframe thead th {\n",
       "        text-align: right;\n",
       "    }\n",
       "</style>\n",
       "<table border=\"1\" class=\"dataframe\">\n",
       "  <thead>\n",
       "    <tr style=\"text-align: right;\">\n",
       "      <th></th>\n",
       "      <th>FIPS</th>\n",
       "      <th>State</th>\n",
       "      <th>County/Borough/Parish</th>\n",
       "      <th>Year</th>\n",
       "      <th>Health_Outcomes_Rank</th>\n",
       "      <th>Yrs_Potential_Life_Lost_per_100K</th>\n",
       "      <th>Percent_Fair/Poor_Health</th>\n",
       "      <th>Percent_Low_Birthweight_Births</th>\n",
       "      <th>Percent_Adult_Smokers</th>\n",
       "      <th>Percent_Adult_Obesity</th>\n",
       "      <th>...</th>\n",
       "      <th>Percent_Age_65_and_over</th>\n",
       "      <th>Percent_Non-Hispanic_Black_or_African_American</th>\n",
       "      <th>Percent_American_Indian_or_Alaskan_Native</th>\n",
       "      <th>Percent_Asian</th>\n",
       "      <th>Percent_Native_Hawaiian_Other_Pacific_Islander</th>\n",
       "      <th>Percent_Hispanic</th>\n",
       "      <th>Percent_Non-Hispanic_White</th>\n",
       "      <th>Percent_Not_Proficient_in_English</th>\n",
       "      <th>Percent_Female</th>\n",
       "      <th>Percent_Rural</th>\n",
       "    </tr>\n",
       "  </thead>\n",
       "  <tbody>\n",
       "    <tr>\n",
       "      <th>0</th>\n",
       "      <td>1000.0</td>\n",
       "      <td>Alabama</td>\n",
       "      <td>0</td>\n",
       "      <td>2020</td>\n",
       "      <td>0.0</td>\n",
       "      <td>9942.794666</td>\n",
       "      <td>22.028703</td>\n",
       "      <td>10.254871</td>\n",
       "      <td>20.927353</td>\n",
       "      <td>35.5</td>\n",
       "      <td>...</td>\n",
       "      <td>16.917263</td>\n",
       "      <td>26.497733</td>\n",
       "      <td>0.703271</td>\n",
       "      <td>1.496909</td>\n",
       "      <td>0.106529</td>\n",
       "      <td>4.443264</td>\n",
       "      <td>65.413428</td>\n",
       "      <td>1.061048</td>\n",
       "      <td>51.633032</td>\n",
       "      <td>40.963183</td>\n",
       "    </tr>\n",
       "    <tr>\n",
       "      <th>1</th>\n",
       "      <td>1001.0</td>\n",
       "      <td>Alabama</td>\n",
       "      <td>Autauga</td>\n",
       "      <td>2020</td>\n",
       "      <td>6.0</td>\n",
       "      <td>8128.591190</td>\n",
       "      <td>20.882987</td>\n",
       "      <td>8.619529</td>\n",
       "      <td>18.081557</td>\n",
       "      <td>33.3</td>\n",
       "      <td>...</td>\n",
       "      <td>15.562670</td>\n",
       "      <td>19.343177</td>\n",
       "      <td>0.480207</td>\n",
       "      <td>1.224798</td>\n",
       "      <td>0.111509</td>\n",
       "      <td>2.965774</td>\n",
       "      <td>74.308016</td>\n",
       "      <td>0.820225</td>\n",
       "      <td>51.448715</td>\n",
       "      <td>42.002162</td>\n",
       "    </tr>\n",
       "    <tr>\n",
       "      <th>2</th>\n",
       "      <td>1003.0</td>\n",
       "      <td>Alabama</td>\n",
       "      <td>Baldwin</td>\n",
       "      <td>2020</td>\n",
       "      <td>2.0</td>\n",
       "      <td>7354.122530</td>\n",
       "      <td>17.509134</td>\n",
       "      <td>8.345003</td>\n",
       "      <td>17.489033</td>\n",
       "      <td>31.0</td>\n",
       "      <td>...</td>\n",
       "      <td>20.443350</td>\n",
       "      <td>8.783976</td>\n",
       "      <td>0.772399</td>\n",
       "      <td>1.150343</td>\n",
       "      <td>0.066966</td>\n",
       "      <td>4.646779</td>\n",
       "      <td>83.111337</td>\n",
       "      <td>0.543517</td>\n",
       "      <td>51.538377</td>\n",
       "      <td>42.279099</td>\n",
       "    </tr>\n",
       "    <tr>\n",
       "      <th>3</th>\n",
       "      <td>1005.0</td>\n",
       "      <td>Alabama</td>\n",
       "      <td>Barbour</td>\n",
       "      <td>2020</td>\n",
       "      <td>45.0</td>\n",
       "      <td>10253.573403</td>\n",
       "      <td>29.591802</td>\n",
       "      <td>11.474559</td>\n",
       "      <td>21.999985</td>\n",
       "      <td>41.7</td>\n",
       "      <td>...</td>\n",
       "      <td>19.420441</td>\n",
       "      <td>48.032635</td>\n",
       "      <td>0.659137</td>\n",
       "      <td>0.454162</td>\n",
       "      <td>0.184880</td>\n",
       "      <td>4.276355</td>\n",
       "      <td>45.641252</td>\n",
       "      <td>1.631683</td>\n",
       "      <td>47.216752</td>\n",
       "      <td>67.789635</td>\n",
       "    </tr>\n",
       "    <tr>\n",
       "      <th>4</th>\n",
       "      <td>1007.0</td>\n",
       "      <td>Alabama</td>\n",
       "      <td>Bibb</td>\n",
       "      <td>2020</td>\n",
       "      <td>34.0</td>\n",
       "      <td>11977.539484</td>\n",
       "      <td>19.439724</td>\n",
       "      <td>10.308710</td>\n",
       "      <td>19.114200</td>\n",
       "      <td>37.6</td>\n",
       "      <td>...</td>\n",
       "      <td>16.473214</td>\n",
       "      <td>21.120536</td>\n",
       "      <td>0.437500</td>\n",
       "      <td>0.236607</td>\n",
       "      <td>0.116071</td>\n",
       "      <td>2.625000</td>\n",
       "      <td>74.589286</td>\n",
       "      <td>0.268210</td>\n",
       "      <td>46.781250</td>\n",
       "      <td>68.352607</td>\n",
       "    </tr>\n",
       "  </tbody>\n",
       "</table>\n",
       "<p>5 rows × 62 columns</p>\n",
       "</div>"
      ],
      "text/plain": [
       "     FIPS    State County/Borough/Parish  Year  Health_Outcomes_Rank  \\\n",
       "0  1000.0  Alabama                     0  2020                   0.0   \n",
       "1  1001.0  Alabama               Autauga  2020                   6.0   \n",
       "2  1003.0  Alabama               Baldwin  2020                   2.0   \n",
       "3  1005.0  Alabama               Barbour  2020                  45.0   \n",
       "4  1007.0  Alabama                  Bibb  2020                  34.0   \n",
       "\n",
       "   Yrs_Potential_Life_Lost_per_100K  Percent_Fair/Poor_Health  \\\n",
       "0                       9942.794666                 22.028703   \n",
       "1                       8128.591190                 20.882987   \n",
       "2                       7354.122530                 17.509134   \n",
       "3                      10253.573403                 29.591802   \n",
       "4                      11977.539484                 19.439724   \n",
       "\n",
       "   Percent_Low_Birthweight_Births  Percent_Adult_Smokers  \\\n",
       "0                       10.254871              20.927353   \n",
       "1                        8.619529              18.081557   \n",
       "2                        8.345003              17.489033   \n",
       "3                       11.474559              21.999985   \n",
       "4                       10.308710              19.114200   \n",
       "\n",
       "   Percent_Adult_Obesity  ...  Percent_Age_65_and_over  \\\n",
       "0                   35.5  ...                16.917263   \n",
       "1                   33.3  ...                15.562670   \n",
       "2                   31.0  ...                20.443350   \n",
       "3                   41.7  ...                19.420441   \n",
       "4                   37.6  ...                16.473214   \n",
       "\n",
       "   Percent_Non-Hispanic_Black_or_African_American  \\\n",
       "0                                       26.497733   \n",
       "1                                       19.343177   \n",
       "2                                        8.783976   \n",
       "3                                       48.032635   \n",
       "4                                       21.120536   \n",
       "\n",
       "   Percent_American_Indian_or_Alaskan_Native  Percent_Asian  \\\n",
       "0                                   0.703271       1.496909   \n",
       "1                                   0.480207       1.224798   \n",
       "2                                   0.772399       1.150343   \n",
       "3                                   0.659137       0.454162   \n",
       "4                                   0.437500       0.236607   \n",
       "\n",
       "   Percent_Native_Hawaiian_Other_Pacific_Islander  Percent_Hispanic  \\\n",
       "0                                        0.106529          4.443264   \n",
       "1                                        0.111509          2.965774   \n",
       "2                                        0.066966          4.646779   \n",
       "3                                        0.184880          4.276355   \n",
       "4                                        0.116071          2.625000   \n",
       "\n",
       "   Percent_Non-Hispanic_White  Percent_Not_Proficient_in_English  \\\n",
       "0                   65.413428                           1.061048   \n",
       "1                   74.308016                           0.820225   \n",
       "2                   83.111337                           0.543517   \n",
       "3                   45.641252                           1.631683   \n",
       "4                   74.589286                           0.268210   \n",
       "\n",
       "   Percent_Female  Percent_Rural  \n",
       "0       51.633032      40.963183  \n",
       "1       51.448715      42.002162  \n",
       "2       51.538377      42.279099  \n",
       "3       47.216752      67.789635  \n",
       "4       46.781250      68.352607  \n",
       "\n",
       "[5 rows x 62 columns]"
      ]
     },
     "execution_count": 4,
     "metadata": {},
     "output_type": "execute_result"
    }
   ],
   "source": [
    "all_data_df = pd.read_csv('Cleaned_Files/Training_Data_All_Years_All_Counties.csv')\n",
    "all_data_df.head()"
   ]
  },
  {
   "cell_type": "code",
   "execution_count": 5,
   "metadata": {},
   "outputs": [
    {
     "data": {
      "text/plain": [
       "(18294, 62)"
      ]
     },
     "execution_count": 5,
     "metadata": {},
     "output_type": "execute_result"
    }
   ],
   "source": [
    "all_data_df.shape"
   ]
  },
  {
   "cell_type": "markdown",
   "metadata": {},
   "source": [
    "### Remove States from All Data : New dataframe with ONLY county data"
   ]
  },
  {
   "cell_type": "code",
   "execution_count": 6,
   "metadata": {},
   "outputs": [
    {
     "data": {
      "text/plain": [
       "(17992, 62)"
      ]
     },
     "execution_count": 6,
     "metadata": {},
     "output_type": "execute_result"
    }
   ],
   "source": [
    "county_data_df = all_data_df.loc[all_data_df[\"County/Borough/Parish\"] != \"0\"]\n",
    "county_data_df.shape"
   ]
  },
  {
   "cell_type": "markdown",
   "metadata": {},
   "source": [
    "### Crate dataframe for only 2019 county information. This is used for Random Forest Classification"
   ]
  },
  {
   "cell_type": "code",
   "execution_count": 7,
   "metadata": {},
   "outputs": [
    {
     "data": {
      "text/plain": [
       "(3081, 62)"
      ]
     },
     "execution_count": 7,
     "metadata": {},
     "output_type": "execute_result"
    }
   ],
   "source": [
    "county_data_2019 = county_data_df.loc[county_data_df[\"Year\"] == 2019]\n",
    "county_data_2019.shape"
   ]
  },
  {
   "cell_type": "markdown",
   "metadata": {},
   "source": [
    "### Test county_data_2019 has Health_Outcomes_Rank?"
   ]
  },
  {
   "cell_type": "code",
   "execution_count": 8,
   "metadata": {},
   "outputs": [
    {
     "data": {
      "text/html": [
       "<div>\n",
       "<style scoped>\n",
       "    .dataframe tbody tr th:only-of-type {\n",
       "        vertical-align: middle;\n",
       "    }\n",
       "\n",
       "    .dataframe tbody tr th {\n",
       "        vertical-align: top;\n",
       "    }\n",
       "\n",
       "    .dataframe thead th {\n",
       "        text-align: right;\n",
       "    }\n",
       "</style>\n",
       "<table border=\"1\" class=\"dataframe\">\n",
       "  <thead>\n",
       "    <tr style=\"text-align: right;\">\n",
       "      <th></th>\n",
       "      <th>FIPS</th>\n",
       "      <th>State</th>\n",
       "      <th>County/Borough/Parish</th>\n",
       "      <th>Year</th>\n",
       "      <th>Health_Outcomes_Rank</th>\n",
       "      <th>Yrs_Potential_Life_Lost_per_100K</th>\n",
       "      <th>Percent_Fair/Poor_Health</th>\n",
       "      <th>Percent_Low_Birthweight_Births</th>\n",
       "      <th>Percent_Adult_Smokers</th>\n",
       "      <th>Percent_Adult_Obesity</th>\n",
       "      <th>...</th>\n",
       "      <th>Percent_Age_65_and_over</th>\n",
       "      <th>Percent_Non-Hispanic_Black_or_African_American</th>\n",
       "      <th>Percent_American_Indian_or_Alaskan_Native</th>\n",
       "      <th>Percent_Asian</th>\n",
       "      <th>Percent_Native_Hawaiian_Other_Pacific_Islander</th>\n",
       "      <th>Percent_Hispanic</th>\n",
       "      <th>Percent_Non-Hispanic_White</th>\n",
       "      <th>Percent_Not_Proficient_in_English</th>\n",
       "      <th>Percent_Female</th>\n",
       "      <th>Percent_Rural</th>\n",
       "    </tr>\n",
       "  </thead>\n",
       "  <tbody>\n",
       "    <tr>\n",
       "      <th>3136</th>\n",
       "      <td>1001.0</td>\n",
       "      <td>Alabama</td>\n",
       "      <td>Autauga</td>\n",
       "      <td>2019</td>\n",
       "      <td>7.0</td>\n",
       "      <td>8824.057123</td>\n",
       "      <td>18.411124</td>\n",
       "      <td>8.475719</td>\n",
       "      <td>19.124658</td>\n",
       "      <td>37.5</td>\n",
       "      <td>...</td>\n",
       "      <td>15.119631</td>\n",
       "      <td>19.254468</td>\n",
       "      <td>0.475641</td>\n",
       "      <td>1.279187</td>\n",
       "      <td>0.104497</td>\n",
       "      <td>2.857452</td>\n",
       "      <td>74.473912</td>\n",
       "      <td>0.828548</td>\n",
       "      <td>51.342246</td>\n",
       "      <td>42.002162</td>\n",
       "    </tr>\n",
       "    <tr>\n",
       "      <th>3137</th>\n",
       "      <td>1003.0</td>\n",
       "      <td>Alabama</td>\n",
       "      <td>Baldwin</td>\n",
       "      <td>2019</td>\n",
       "      <td>2.0</td>\n",
       "      <td>7224.632160</td>\n",
       "      <td>18.060458</td>\n",
       "      <td>8.338683</td>\n",
       "      <td>16.795485</td>\n",
       "      <td>31.0</td>\n",
       "      <td>...</td>\n",
       "      <td>19.947044</td>\n",
       "      <td>8.953195</td>\n",
       "      <td>0.776003</td>\n",
       "      <td>1.156480</td>\n",
       "      <td>0.068665</td>\n",
       "      <td>4.550200</td>\n",
       "      <td>83.047388</td>\n",
       "      <td>0.454512</td>\n",
       "      <td>51.452772</td>\n",
       "      <td>42.279099</td>\n",
       "    </tr>\n",
       "    <tr>\n",
       "      <th>3138</th>\n",
       "      <td>1005.0</td>\n",
       "      <td>Alabama</td>\n",
       "      <td>Barbour</td>\n",
       "      <td>2019</td>\n",
       "      <td>33.0</td>\n",
       "      <td>9586.165037</td>\n",
       "      <td>25.773416</td>\n",
       "      <td>10.952624</td>\n",
       "      <td>21.540878</td>\n",
       "      <td>44.3</td>\n",
       "      <td>...</td>\n",
       "      <td>18.824693</td>\n",
       "      <td>47.942224</td>\n",
       "      <td>0.652948</td>\n",
       "      <td>0.463000</td>\n",
       "      <td>0.185991</td>\n",
       "      <td>4.206569</td>\n",
       "      <td>45.955679</td>\n",
       "      <td>1.199273</td>\n",
       "      <td>47.229917</td>\n",
       "      <td>67.789635</td>\n",
       "    </tr>\n",
       "    <tr>\n",
       "      <th>3139</th>\n",
       "      <td>1007.0</td>\n",
       "      <td>Alabama</td>\n",
       "      <td>Bibb</td>\n",
       "      <td>2019</td>\n",
       "      <td>40.0</td>\n",
       "      <td>11783.543675</td>\n",
       "      <td>19.996912</td>\n",
       "      <td>11.105003</td>\n",
       "      <td>19.916404</td>\n",
       "      <td>37.8</td>\n",
       "      <td>...</td>\n",
       "      <td>16.022587</td>\n",
       "      <td>21.457561</td>\n",
       "      <td>0.427916</td>\n",
       "      <td>0.220575</td>\n",
       "      <td>0.114699</td>\n",
       "      <td>2.638080</td>\n",
       "      <td>74.298571</td>\n",
       "      <td>0.394348</td>\n",
       "      <td>46.453150</td>\n",
       "      <td>68.352607</td>\n",
       "    </tr>\n",
       "    <tr>\n",
       "      <th>3140</th>\n",
       "      <td>1009.0</td>\n",
       "      <td>Alabama</td>\n",
       "      <td>Blount</td>\n",
       "      <td>2019</td>\n",
       "      <td>22.0</td>\n",
       "      <td>10908.101822</td>\n",
       "      <td>21.095323</td>\n",
       "      <td>7.926829</td>\n",
       "      <td>19.652158</td>\n",
       "      <td>34.4</td>\n",
       "      <td>...</td>\n",
       "      <td>17.842553</td>\n",
       "      <td>1.460018</td>\n",
       "      <td>0.632617</td>\n",
       "      <td>0.301657</td>\n",
       "      <td>0.117215</td>\n",
       "      <td>9.565097</td>\n",
       "      <td>86.944306</td>\n",
       "      <td>1.870004</td>\n",
       "      <td>50.688639</td>\n",
       "      <td>89.951502</td>\n",
       "    </tr>\n",
       "    <tr>\n",
       "      <th>3141</th>\n",
       "      <td>1011.0</td>\n",
       "      <td>Alabama</td>\n",
       "      <td>Bullock</td>\n",
       "      <td>2019</td>\n",
       "      <td>58.0</td>\n",
       "      <td>12066.910263</td>\n",
       "      <td>29.407714</td>\n",
       "      <td>13.732004</td>\n",
       "      <td>23.478291</td>\n",
       "      <td>39.4</td>\n",
       "      <td>...</td>\n",
       "      <td>15.821127</td>\n",
       "      <td>69.162867</td>\n",
       "      <td>0.843923</td>\n",
       "      <td>0.194005</td>\n",
       "      <td>0.776021</td>\n",
       "      <td>8.245223</td>\n",
       "      <td>21.301775</td>\n",
       "      <td>1.104692</td>\n",
       "      <td>45.533029</td>\n",
       "      <td>51.374382</td>\n",
       "    </tr>\n",
       "    <tr>\n",
       "      <th>3142</th>\n",
       "      <td>1013.0</td>\n",
       "      <td>Alabama</td>\n",
       "      <td>Butler</td>\n",
       "      <td>2019</td>\n",
       "      <td>62.0</td>\n",
       "      <td>14018.606262</td>\n",
       "      <td>26.502613</td>\n",
       "      <td>12.411765</td>\n",
       "      <td>22.197656</td>\n",
       "      <td>40.2</td>\n",
       "      <td>...</td>\n",
       "      <td>19.556116</td>\n",
       "      <td>44.615385</td>\n",
       "      <td>0.378310</td>\n",
       "      <td>1.029004</td>\n",
       "      <td>0.050441</td>\n",
       "      <td>1.437579</td>\n",
       "      <td>51.596469</td>\n",
       "      <td>0.712702</td>\n",
       "      <td>53.432535</td>\n",
       "      <td>71.232157</td>\n",
       "    </tr>\n",
       "    <tr>\n",
       "      <th>3143</th>\n",
       "      <td>1015.0</td>\n",
       "      <td>Alabama</td>\n",
       "      <td>Calhoun</td>\n",
       "      <td>2019</td>\n",
       "      <td>38.0</td>\n",
       "      <td>12217.759984</td>\n",
       "      <td>19.584701</td>\n",
       "      <td>9.002330</td>\n",
       "      <td>20.462232</td>\n",
       "      <td>37.1</td>\n",
       "      <td>...</td>\n",
       "      <td>17.312252</td>\n",
       "      <td>20.790043</td>\n",
       "      <td>0.529077</td>\n",
       "      <td>0.991040</td>\n",
       "      <td>0.112440</td>\n",
       "      <td>3.749739</td>\n",
       "      <td>72.311031</td>\n",
       "      <td>0.880968</td>\n",
       "      <td>51.930653</td>\n",
       "      <td>33.696826</td>\n",
       "    </tr>\n",
       "    <tr>\n",
       "      <th>3144</th>\n",
       "      <td>1017.0</td>\n",
       "      <td>Alabama</td>\n",
       "      <td>Chambers</td>\n",
       "      <td>2019</td>\n",
       "      <td>49.0</td>\n",
       "      <td>11273.170980</td>\n",
       "      <td>25.219836</td>\n",
       "      <td>12.446043</td>\n",
       "      <td>22.040370</td>\n",
       "      <td>40.3</td>\n",
       "      <td>...</td>\n",
       "      <td>19.078694</td>\n",
       "      <td>39.489218</td>\n",
       "      <td>0.296621</td>\n",
       "      <td>1.248776</td>\n",
       "      <td>0.044493</td>\n",
       "      <td>2.438229</td>\n",
       "      <td>55.497879</td>\n",
       "      <td>0.153894</td>\n",
       "      <td>52.125293</td>\n",
       "      <td>49.148034</td>\n",
       "    </tr>\n",
       "    <tr>\n",
       "      <th>3145</th>\n",
       "      <td>1019.0</td>\n",
       "      <td>Alabama</td>\n",
       "      <td>Cherokee</td>\n",
       "      <td>2019</td>\n",
       "      <td>23.0</td>\n",
       "      <td>11294.410540</td>\n",
       "      <td>19.291593</td>\n",
       "      <td>8.232446</td>\n",
       "      <td>19.144853</td>\n",
       "      <td>36.3</td>\n",
       "      <td>...</td>\n",
       "      <td>22.616700</td>\n",
       "      <td>4.215493</td>\n",
       "      <td>0.630390</td>\n",
       "      <td>0.297792</td>\n",
       "      <td>0.030939</td>\n",
       "      <td>1.643655</td>\n",
       "      <td>91.685037</td>\n",
       "      <td>0.097225</td>\n",
       "      <td>50.319063</td>\n",
       "      <td>85.736273</td>\n",
       "    </tr>\n",
       "  </tbody>\n",
       "</table>\n",
       "<p>10 rows × 62 columns</p>\n",
       "</div>"
      ],
      "text/plain": [
       "        FIPS    State County/Borough/Parish  Year  Health_Outcomes_Rank  \\\n",
       "3136  1001.0  Alabama               Autauga  2019                   7.0   \n",
       "3137  1003.0  Alabama               Baldwin  2019                   2.0   \n",
       "3138  1005.0  Alabama               Barbour  2019                  33.0   \n",
       "3139  1007.0  Alabama                  Bibb  2019                  40.0   \n",
       "3140  1009.0  Alabama                Blount  2019                  22.0   \n",
       "3141  1011.0  Alabama               Bullock  2019                  58.0   \n",
       "3142  1013.0  Alabama                Butler  2019                  62.0   \n",
       "3143  1015.0  Alabama               Calhoun  2019                  38.0   \n",
       "3144  1017.0  Alabama              Chambers  2019                  49.0   \n",
       "3145  1019.0  Alabama              Cherokee  2019                  23.0   \n",
       "\n",
       "      Yrs_Potential_Life_Lost_per_100K  Percent_Fair/Poor_Health  \\\n",
       "3136                       8824.057123                 18.411124   \n",
       "3137                       7224.632160                 18.060458   \n",
       "3138                       9586.165037                 25.773416   \n",
       "3139                      11783.543675                 19.996912   \n",
       "3140                      10908.101822                 21.095323   \n",
       "3141                      12066.910263                 29.407714   \n",
       "3142                      14018.606262                 26.502613   \n",
       "3143                      12217.759984                 19.584701   \n",
       "3144                      11273.170980                 25.219836   \n",
       "3145                      11294.410540                 19.291593   \n",
       "\n",
       "      Percent_Low_Birthweight_Births  Percent_Adult_Smokers  \\\n",
       "3136                        8.475719              19.124658   \n",
       "3137                        8.338683              16.795485   \n",
       "3138                       10.952624              21.540878   \n",
       "3139                       11.105003              19.916404   \n",
       "3140                        7.926829              19.652158   \n",
       "3141                       13.732004              23.478291   \n",
       "3142                       12.411765              22.197656   \n",
       "3143                        9.002330              20.462232   \n",
       "3144                       12.446043              22.040370   \n",
       "3145                        8.232446              19.144853   \n",
       "\n",
       "      Percent_Adult_Obesity  ...  Percent_Age_65_and_over  \\\n",
       "3136                   37.5  ...                15.119631   \n",
       "3137                   31.0  ...                19.947044   \n",
       "3138                   44.3  ...                18.824693   \n",
       "3139                   37.8  ...                16.022587   \n",
       "3140                   34.4  ...                17.842553   \n",
       "3141                   39.4  ...                15.821127   \n",
       "3142                   40.2  ...                19.556116   \n",
       "3143                   37.1  ...                17.312252   \n",
       "3144                   40.3  ...                19.078694   \n",
       "3145                   36.3  ...                22.616700   \n",
       "\n",
       "      Percent_Non-Hispanic_Black_or_African_American  \\\n",
       "3136                                       19.254468   \n",
       "3137                                        8.953195   \n",
       "3138                                       47.942224   \n",
       "3139                                       21.457561   \n",
       "3140                                        1.460018   \n",
       "3141                                       69.162867   \n",
       "3142                                       44.615385   \n",
       "3143                                       20.790043   \n",
       "3144                                       39.489218   \n",
       "3145                                        4.215493   \n",
       "\n",
       "      Percent_American_Indian_or_Alaskan_Native  Percent_Asian  \\\n",
       "3136                                   0.475641       1.279187   \n",
       "3137                                   0.776003       1.156480   \n",
       "3138                                   0.652948       0.463000   \n",
       "3139                                   0.427916       0.220575   \n",
       "3140                                   0.632617       0.301657   \n",
       "3141                                   0.843923       0.194005   \n",
       "3142                                   0.378310       1.029004   \n",
       "3143                                   0.529077       0.991040   \n",
       "3144                                   0.296621       1.248776   \n",
       "3145                                   0.630390       0.297792   \n",
       "\n",
       "      Percent_Native_Hawaiian_Other_Pacific_Islander  Percent_Hispanic  \\\n",
       "3136                                        0.104497          2.857452   \n",
       "3137                                        0.068665          4.550200   \n",
       "3138                                        0.185991          4.206569   \n",
       "3139                                        0.114699          2.638080   \n",
       "3140                                        0.117215          9.565097   \n",
       "3141                                        0.776021          8.245223   \n",
       "3142                                        0.050441          1.437579   \n",
       "3143                                        0.112440          3.749739   \n",
       "3144                                        0.044493          2.438229   \n",
       "3145                                        0.030939          1.643655   \n",
       "\n",
       "      Percent_Non-Hispanic_White  Percent_Not_Proficient_in_English  \\\n",
       "3136                   74.473912                           0.828548   \n",
       "3137                   83.047388                           0.454512   \n",
       "3138                   45.955679                           1.199273   \n",
       "3139                   74.298571                           0.394348   \n",
       "3140                   86.944306                           1.870004   \n",
       "3141                   21.301775                           1.104692   \n",
       "3142                   51.596469                           0.712702   \n",
       "3143                   72.311031                           0.880968   \n",
       "3144                   55.497879                           0.153894   \n",
       "3145                   91.685037                           0.097225   \n",
       "\n",
       "      Percent_Female  Percent_Rural  \n",
       "3136       51.342246      42.002162  \n",
       "3137       51.452772      42.279099  \n",
       "3138       47.229917      67.789635  \n",
       "3139       46.453150      68.352607  \n",
       "3140       50.688639      89.951502  \n",
       "3141       45.533029      51.374382  \n",
       "3142       53.432535      71.232157  \n",
       "3143       51.930653      33.696826  \n",
       "3144       52.125293      49.148034  \n",
       "3145       50.319063      85.736273  \n",
       "\n",
       "[10 rows x 62 columns]"
      ]
     },
     "execution_count": 8,
     "metadata": {},
     "output_type": "execute_result"
    }
   ],
   "source": [
    "county_data_2019.head(10)"
   ]
  },
  {
   "cell_type": "markdown",
   "metadata": {},
   "source": [
    "### Assign Health_Outcomes_Rank to y-value and  independent variables to X as a dataframe"
   ]
  },
  {
   "cell_type": "code",
   "execution_count": 9,
   "metadata": {},
   "outputs": [
    {
     "data": {
      "text/plain": [
       "(3081,)"
      ]
     },
     "execution_count": 9,
     "metadata": {},
     "output_type": "execute_result"
    }
   ],
   "source": [
    "y = county_data_2019[\"Health_Outcomes_Rank\"]\n",
    "y.shape"
   ]
  },
  {
   "cell_type": "markdown",
   "metadata": {},
   "source": [
    "### Dropping columns with not numerical information: Yes/No for Water Quality?"
   ]
  },
  {
   "cell_type": "code",
   "execution_count": 10,
   "metadata": {},
   "outputs": [
    {
     "data": {
      "text/plain": [
       "(3081, 56)"
      ]
     },
     "execution_count": 10,
     "metadata": {},
     "output_type": "execute_result"
    }
   ],
   "source": [
    "X = county_data_2019.drop([\"FIPS\", \"Health_Outcomes_Rank\", \"State\", \"County/Borough/Parish\", \"Year\", \"County_Affected_by_Water_Violation\"], axis=1)\n",
    "X.shape"
   ]
  },
  {
   "cell_type": "markdown",
   "metadata": {},
   "source": [
    "### Train Test Split data for training and testing the model"
   ]
  },
  {
   "cell_type": "code",
   "execution_count": 11,
   "metadata": {},
   "outputs": [],
   "source": [
    "#train test split\n",
    "X_train, X_test, y_train, y_test = train_test_split(X, y, random_state=4)"
   ]
  },
  {
   "cell_type": "code",
   "execution_count": 12,
   "metadata": {},
   "outputs": [
    {
     "data": {
      "text/plain": [
       "((2310, 56), (2310,), (771, 56), (771,))"
      ]
     },
     "execution_count": 12,
     "metadata": {},
     "output_type": "execute_result"
    }
   ],
   "source": [
    "X_train.shape, y_train.shape, X_test.shape, y_test.shape"
   ]
  },
  {
   "cell_type": "markdown",
   "metadata": {},
   "source": [
    "### Create the classifier model: CLASSIFIER MODEL SUCKED! Try regressor model!"
   ]
  },
  {
   "cell_type": "code",
   "execution_count": 62,
   "metadata": {},
   "outputs": [],
   "source": [
    "# from sklearn.ensemble import RandomForestClassifier\n",
    "# model = RandomForestClassifier(n_estimators= 100)"
   ]
  },
  {
   "cell_type": "code",
   "execution_count": 78,
   "metadata": {},
   "outputs": [],
   "source": [
    "### Create the regressor model\n",
    "model = RandomForestRegressor(n_estimators= 100)"
   ]
  },
  {
   "cell_type": "markdown",
   "metadata": {},
   "source": [
    "###  Execute the fitting and score the model.\n"
   ]
  },
  {
   "cell_type": "code",
   "execution_count": 79,
   "metadata": {},
   "outputs": [
    {
     "data": {
      "text/plain": [
       "RandomForestRegressor(bootstrap=True, criterion='mse', max_depth=None,\n",
       "                      max_features='auto', max_leaf_nodes=None,\n",
       "                      min_impurity_decrease=0.0, min_impurity_split=None,\n",
       "                      min_samples_leaf=1, min_samples_split=2,\n",
       "                      min_weight_fraction_leaf=0.0, n_estimators=100,\n",
       "                      n_jobs=None, oob_score=False, random_state=None,\n",
       "                      verbose=0, warm_start=False)"
      ]
     },
     "execution_count": 79,
     "metadata": {},
     "output_type": "execute_result"
    }
   ],
   "source": [
    "model.fit(X_train, y_train)"
   ]
  },
  {
   "cell_type": "code",
   "execution_count": 80,
   "metadata": {},
   "outputs": [
    {
     "data": {
      "text/plain": [
       "(0.9607441837086171, 0.7693466242171605)"
      ]
     },
     "execution_count": 80,
     "metadata": {},
     "output_type": "execute_result"
    }
   ],
   "source": [
    "model.score(X_train, y_train), model.score(X_test, y_test)"
   ]
  },
  {
   "cell_type": "markdown",
   "metadata": {},
   "source": [
    "### Calculating importances and relative weights for different metrics in the model. "
   ]
  },
  {
   "cell_type": "code",
   "execution_count": 66,
   "metadata": {},
   "outputs": [
    {
     "data": {
      "text/plain": [
       "array([0.046709  , 0.0166527 , 0.01975873, 0.0382417 , 0.01277565,\n",
       "       0.00462207, 0.01048976, 0.00471333, 0.01472314, 0.00615493,\n",
       "       0.00691855, 0.0265598 , 0.14124119, 0.00394694, 0.00352748,\n",
       "       0.00781966, 0.00628363, 0.0380095 , 0.00563196, 0.00575474,\n",
       "       0.11043217, 0.01174778, 0.01630507, 0.00675796, 0.01231718,\n",
       "       0.00807333, 0.00649933, 0.01427654, 0.005336  , 0.00570025,\n",
       "       0.00260523, 0.14878863, 0.00376033, 0.00223984, 0.00819908,\n",
       "       0.00530634, 0.01764281, 0.00396808, 0.00793892, 0.0268834 ,\n",
       "       0.005022  , 0.03119587, 0.01240122, 0.00193849, 0.00343393,\n",
       "       0.00556311, 0.00522625, 0.00821621, 0.0379514 , 0.00438831,\n",
       "       0.00515072, 0.01111331, 0.0079696 , 0.00451178, 0.00491125,\n",
       "       0.00569384])"
      ]
     },
     "execution_count": 66,
     "metadata": {},
     "output_type": "execute_result"
    }
   ],
   "source": [
    "model.feature_importances_"
   ]
  },
  {
   "cell_type": "code",
   "execution_count": 67,
   "metadata": {},
   "outputs": [
    {
     "data": {
      "text/plain": [
       "Index(['Yrs_Potential_Life_Lost_per_100K', 'Percent_Fair/Poor_Health',\n",
       "       'Percent_Low_Birthweight_Births', 'Percent_Adult_Smokers',\n",
       "       'Percent_Adult_Obesity', 'Healthy_Food_Access_Index',\n",
       "       'Percent_Adults_Physical_Inactivity',\n",
       "       'Percent_Access_to_Excercise_Opportunities',\n",
       "       'Percent_Adults_Excessive_Drinking',\n",
       "       'Percent_Driving_Deaths_with_Alcohol_Involvement',\n",
       "       'Chlamydia_Cases_per_100K', 'Teen_Birth_Rate',\n",
       "       'Percent_Ppl_Under65_w/o_Insurance', 'PCP_per_100K',\n",
       "       'Dentists_per_100K', 'MHP_per_100K',\n",
       "       'Preventable_Hospitalization_Rate_per_100K_Medicare', 'Graduation_Rate',\n",
       "       'Percent_Adults_with_Some_Post-secondary_Ed',\n",
       "       'Percent_Unemployed_&_Looking_for_Work',\n",
       "       'Percent_Children_Living_in_Poverty', '80th_Percentile_MHI',\n",
       "       '20th_Percentile_MHI',\n",
       "       'Percent_Children_Living_in_Single_Parent_Household',\n",
       "       'Associations_per_10K', 'Violent_Crimes_per_100K',\n",
       "       'Injury_Death_Rate_per_100K',\n",
       "       'Avg_Daily_Particulate_Matter_in_Micrograms_per_Cubic_Meter',\n",
       "       'Percent_Households_with_One_or_More_Severe_Problems',\n",
       "       'Percent_Lone_Commuters_who_Commute_More_Than_30Min',\n",
       "       'Premature_Deaths', 'Premature_Age_Adjusted_Mortality_per_100K',\n",
       "       'Child_Mortality_per_100K', 'Infant_Mortality_per_1K_live_births',\n",
       "       'Percent_Adults_Diagnosed_Diabetes', 'HIV_per_100K',\n",
       "       'Percent_Pop_w/o_Adequate_Access_to_Food',\n",
       "       'Drug_Overdose_Deaths_per_100K', 'Motor_Vehicle_Deaths_per_100K',\n",
       "       'Percent_Children_w/o_Health_Insurance',\n",
       "       'Other_Primary_Care_Providers_per_100K', 'Median_Household_Income',\n",
       "       'Percent_Children_Enrolled_in_Reduced_Lunch', 'Homicide_per_100K',\n",
       "       'Resident_Population', 'Percent_under_18_years_of_age',\n",
       "       'Percent_Age_65_and_over',\n",
       "       'Percent_Non-Hispanic_Black_or_African_American',\n",
       "       'Percent_American_Indian_or_Alaskan_Native', 'Percent_Asian',\n",
       "       'Percent_Native_Hawaiian_Other_Pacific_Islander', 'Percent_Hispanic',\n",
       "       'Percent_Non-Hispanic_White', 'Percent_Not_Proficient_in_English',\n",
       "       'Percent_Female', 'Percent_Rural'],\n",
       "      dtype='object')"
      ]
     },
     "execution_count": 67,
     "metadata": {},
     "output_type": "execute_result"
    }
   ],
   "source": [
    "X_train.columns"
   ]
  },
  {
   "cell_type": "code",
   "execution_count": 68,
   "metadata": {},
   "outputs": [
    {
     "data": {
      "text/html": [
       "<div>\n",
       "<style scoped>\n",
       "    .dataframe tbody tr th:only-of-type {\n",
       "        vertical-align: middle;\n",
       "    }\n",
       "\n",
       "    .dataframe tbody tr th {\n",
       "        vertical-align: top;\n",
       "    }\n",
       "\n",
       "    .dataframe thead th {\n",
       "        text-align: right;\n",
       "    }\n",
       "</style>\n",
       "<table border=\"1\" class=\"dataframe\">\n",
       "  <thead>\n",
       "    <tr style=\"text-align: right;\">\n",
       "      <th></th>\n",
       "      <th>features</th>\n",
       "      <th>Importances</th>\n",
       "    </tr>\n",
       "  </thead>\n",
       "  <tbody>\n",
       "    <tr>\n",
       "      <th>31</th>\n",
       "      <td>Premature_Age_Adjusted_Mortality_per_100K</td>\n",
       "      <td>0.148789</td>\n",
       "    </tr>\n",
       "    <tr>\n",
       "      <th>12</th>\n",
       "      <td>Percent_Ppl_Under65_w/o_Insurance</td>\n",
       "      <td>0.141241</td>\n",
       "    </tr>\n",
       "    <tr>\n",
       "      <th>20</th>\n",
       "      <td>Percent_Children_Living_in_Poverty</td>\n",
       "      <td>0.110432</td>\n",
       "    </tr>\n",
       "    <tr>\n",
       "      <th>0</th>\n",
       "      <td>Yrs_Potential_Life_Lost_per_100K</td>\n",
       "      <td>0.046709</td>\n",
       "    </tr>\n",
       "    <tr>\n",
       "      <th>3</th>\n",
       "      <td>Percent_Adult_Smokers</td>\n",
       "      <td>0.038242</td>\n",
       "    </tr>\n",
       "    <tr>\n",
       "      <th>17</th>\n",
       "      <td>Graduation_Rate</td>\n",
       "      <td>0.038009</td>\n",
       "    </tr>\n",
       "    <tr>\n",
       "      <th>48</th>\n",
       "      <td>Percent_American_Indian_or_Alaskan_Native</td>\n",
       "      <td>0.037951</td>\n",
       "    </tr>\n",
       "    <tr>\n",
       "      <th>41</th>\n",
       "      <td>Median_Household_Income</td>\n",
       "      <td>0.031196</td>\n",
       "    </tr>\n",
       "    <tr>\n",
       "      <th>39</th>\n",
       "      <td>Percent_Children_w/o_Health_Insurance</td>\n",
       "      <td>0.026883</td>\n",
       "    </tr>\n",
       "    <tr>\n",
       "      <th>11</th>\n",
       "      <td>Teen_Birth_Rate</td>\n",
       "      <td>0.026560</td>\n",
       "    </tr>\n",
       "    <tr>\n",
       "      <th>2</th>\n",
       "      <td>Percent_Low_Birthweight_Births</td>\n",
       "      <td>0.019759</td>\n",
       "    </tr>\n",
       "    <tr>\n",
       "      <th>36</th>\n",
       "      <td>Percent_Pop_w/o_Adequate_Access_to_Food</td>\n",
       "      <td>0.017643</td>\n",
       "    </tr>\n",
       "    <tr>\n",
       "      <th>1</th>\n",
       "      <td>Percent_Fair/Poor_Health</td>\n",
       "      <td>0.016653</td>\n",
       "    </tr>\n",
       "    <tr>\n",
       "      <th>22</th>\n",
       "      <td>20th_Percentile_MHI</td>\n",
       "      <td>0.016305</td>\n",
       "    </tr>\n",
       "    <tr>\n",
       "      <th>8</th>\n",
       "      <td>Percent_Adults_Excessive_Drinking</td>\n",
       "      <td>0.014723</td>\n",
       "    </tr>\n",
       "    <tr>\n",
       "      <th>27</th>\n",
       "      <td>Avg_Daily_Particulate_Matter_in_Micrograms_per...</td>\n",
       "      <td>0.014277</td>\n",
       "    </tr>\n",
       "    <tr>\n",
       "      <th>4</th>\n",
       "      <td>Percent_Adult_Obesity</td>\n",
       "      <td>0.012776</td>\n",
       "    </tr>\n",
       "    <tr>\n",
       "      <th>42</th>\n",
       "      <td>Percent_Children_Enrolled_in_Reduced_Lunch</td>\n",
       "      <td>0.012401</td>\n",
       "    </tr>\n",
       "    <tr>\n",
       "      <th>24</th>\n",
       "      <td>Associations_per_10K</td>\n",
       "      <td>0.012317</td>\n",
       "    </tr>\n",
       "    <tr>\n",
       "      <th>21</th>\n",
       "      <td>80th_Percentile_MHI</td>\n",
       "      <td>0.011748</td>\n",
       "    </tr>\n",
       "    <tr>\n",
       "      <th>51</th>\n",
       "      <td>Percent_Hispanic</td>\n",
       "      <td>0.011113</td>\n",
       "    </tr>\n",
       "    <tr>\n",
       "      <th>6</th>\n",
       "      <td>Percent_Adults_Physical_Inactivity</td>\n",
       "      <td>0.010490</td>\n",
       "    </tr>\n",
       "    <tr>\n",
       "      <th>47</th>\n",
       "      <td>Percent_Non-Hispanic_Black_or_African_American</td>\n",
       "      <td>0.008216</td>\n",
       "    </tr>\n",
       "    <tr>\n",
       "      <th>34</th>\n",
       "      <td>Percent_Adults_Diagnosed_Diabetes</td>\n",
       "      <td>0.008199</td>\n",
       "    </tr>\n",
       "    <tr>\n",
       "      <th>25</th>\n",
       "      <td>Violent_Crimes_per_100K</td>\n",
       "      <td>0.008073</td>\n",
       "    </tr>\n",
       "    <tr>\n",
       "      <th>52</th>\n",
       "      <td>Percent_Non-Hispanic_White</td>\n",
       "      <td>0.007970</td>\n",
       "    </tr>\n",
       "    <tr>\n",
       "      <th>38</th>\n",
       "      <td>Motor_Vehicle_Deaths_per_100K</td>\n",
       "      <td>0.007939</td>\n",
       "    </tr>\n",
       "    <tr>\n",
       "      <th>15</th>\n",
       "      <td>MHP_per_100K</td>\n",
       "      <td>0.007820</td>\n",
       "    </tr>\n",
       "    <tr>\n",
       "      <th>10</th>\n",
       "      <td>Chlamydia_Cases_per_100K</td>\n",
       "      <td>0.006919</td>\n",
       "    </tr>\n",
       "    <tr>\n",
       "      <th>23</th>\n",
       "      <td>Percent_Children_Living_in_Single_Parent_House...</td>\n",
       "      <td>0.006758</td>\n",
       "    </tr>\n",
       "    <tr>\n",
       "      <th>26</th>\n",
       "      <td>Injury_Death_Rate_per_100K</td>\n",
       "      <td>0.006499</td>\n",
       "    </tr>\n",
       "    <tr>\n",
       "      <th>16</th>\n",
       "      <td>Preventable_Hospitalization_Rate_per_100K_Medi...</td>\n",
       "      <td>0.006284</td>\n",
       "    </tr>\n",
       "    <tr>\n",
       "      <th>9</th>\n",
       "      <td>Percent_Driving_Deaths_with_Alcohol_Involvement</td>\n",
       "      <td>0.006155</td>\n",
       "    </tr>\n",
       "    <tr>\n",
       "      <th>19</th>\n",
       "      <td>Percent_Unemployed_&amp;_Looking_for_Work</td>\n",
       "      <td>0.005755</td>\n",
       "    </tr>\n",
       "    <tr>\n",
       "      <th>29</th>\n",
       "      <td>Percent_Lone_Commuters_who_Commute_More_Than_3...</td>\n",
       "      <td>0.005700</td>\n",
       "    </tr>\n",
       "    <tr>\n",
       "      <th>55</th>\n",
       "      <td>Percent_Rural</td>\n",
       "      <td>0.005694</td>\n",
       "    </tr>\n",
       "    <tr>\n",
       "      <th>18</th>\n",
       "      <td>Percent_Adults_with_Some_Post-secondary_Ed</td>\n",
       "      <td>0.005632</td>\n",
       "    </tr>\n",
       "    <tr>\n",
       "      <th>45</th>\n",
       "      <td>Percent_under_18_years_of_age</td>\n",
       "      <td>0.005563</td>\n",
       "    </tr>\n",
       "    <tr>\n",
       "      <th>28</th>\n",
       "      <td>Percent_Households_with_One_or_More_Severe_Pro...</td>\n",
       "      <td>0.005336</td>\n",
       "    </tr>\n",
       "    <tr>\n",
       "      <th>35</th>\n",
       "      <td>HIV_per_100K</td>\n",
       "      <td>0.005306</td>\n",
       "    </tr>\n",
       "    <tr>\n",
       "      <th>46</th>\n",
       "      <td>Percent_Age_65_and_over</td>\n",
       "      <td>0.005226</td>\n",
       "    </tr>\n",
       "    <tr>\n",
       "      <th>50</th>\n",
       "      <td>Percent_Native_Hawaiian_Other_Pacific_Islander</td>\n",
       "      <td>0.005151</td>\n",
       "    </tr>\n",
       "    <tr>\n",
       "      <th>40</th>\n",
       "      <td>Other_Primary_Care_Providers_per_100K</td>\n",
       "      <td>0.005022</td>\n",
       "    </tr>\n",
       "    <tr>\n",
       "      <th>54</th>\n",
       "      <td>Percent_Female</td>\n",
       "      <td>0.004911</td>\n",
       "    </tr>\n",
       "    <tr>\n",
       "      <th>7</th>\n",
       "      <td>Percent_Access_to_Excercise_Opportunities</td>\n",
       "      <td>0.004713</td>\n",
       "    </tr>\n",
       "    <tr>\n",
       "      <th>5</th>\n",
       "      <td>Healthy_Food_Access_Index</td>\n",
       "      <td>0.004622</td>\n",
       "    </tr>\n",
       "    <tr>\n",
       "      <th>53</th>\n",
       "      <td>Percent_Not_Proficient_in_English</td>\n",
       "      <td>0.004512</td>\n",
       "    </tr>\n",
       "    <tr>\n",
       "      <th>49</th>\n",
       "      <td>Percent_Asian</td>\n",
       "      <td>0.004388</td>\n",
       "    </tr>\n",
       "    <tr>\n",
       "      <th>37</th>\n",
       "      <td>Drug_Overdose_Deaths_per_100K</td>\n",
       "      <td>0.003968</td>\n",
       "    </tr>\n",
       "    <tr>\n",
       "      <th>13</th>\n",
       "      <td>PCP_per_100K</td>\n",
       "      <td>0.003947</td>\n",
       "    </tr>\n",
       "    <tr>\n",
       "      <th>32</th>\n",
       "      <td>Child_Mortality_per_100K</td>\n",
       "      <td>0.003760</td>\n",
       "    </tr>\n",
       "    <tr>\n",
       "      <th>14</th>\n",
       "      <td>Dentists_per_100K</td>\n",
       "      <td>0.003527</td>\n",
       "    </tr>\n",
       "    <tr>\n",
       "      <th>44</th>\n",
       "      <td>Resident_Population</td>\n",
       "      <td>0.003434</td>\n",
       "    </tr>\n",
       "    <tr>\n",
       "      <th>30</th>\n",
       "      <td>Premature_Deaths</td>\n",
       "      <td>0.002605</td>\n",
       "    </tr>\n",
       "    <tr>\n",
       "      <th>33</th>\n",
       "      <td>Infant_Mortality_per_1K_live_births</td>\n",
       "      <td>0.002240</td>\n",
       "    </tr>\n",
       "    <tr>\n",
       "      <th>43</th>\n",
       "      <td>Homicide_per_100K</td>\n",
       "      <td>0.001938</td>\n",
       "    </tr>\n",
       "  </tbody>\n",
       "</table>\n",
       "</div>"
      ],
      "text/plain": [
       "                                             features  Importances\n",
       "31          Premature_Age_Adjusted_Mortality_per_100K     0.148789\n",
       "12                  Percent_Ppl_Under65_w/o_Insurance     0.141241\n",
       "20                 Percent_Children_Living_in_Poverty     0.110432\n",
       "0                    Yrs_Potential_Life_Lost_per_100K     0.046709\n",
       "3                               Percent_Adult_Smokers     0.038242\n",
       "17                                    Graduation_Rate     0.038009\n",
       "48          Percent_American_Indian_or_Alaskan_Native     0.037951\n",
       "41                            Median_Household_Income     0.031196\n",
       "39              Percent_Children_w/o_Health_Insurance     0.026883\n",
       "11                                    Teen_Birth_Rate     0.026560\n",
       "2                      Percent_Low_Birthweight_Births     0.019759\n",
       "36            Percent_Pop_w/o_Adequate_Access_to_Food     0.017643\n",
       "1                            Percent_Fair/Poor_Health     0.016653\n",
       "22                                20th_Percentile_MHI     0.016305\n",
       "8                   Percent_Adults_Excessive_Drinking     0.014723\n",
       "27  Avg_Daily_Particulate_Matter_in_Micrograms_per...     0.014277\n",
       "4                               Percent_Adult_Obesity     0.012776\n",
       "42         Percent_Children_Enrolled_in_Reduced_Lunch     0.012401\n",
       "24                               Associations_per_10K     0.012317\n",
       "21                                80th_Percentile_MHI     0.011748\n",
       "51                                   Percent_Hispanic     0.011113\n",
       "6                  Percent_Adults_Physical_Inactivity     0.010490\n",
       "47     Percent_Non-Hispanic_Black_or_African_American     0.008216\n",
       "34                  Percent_Adults_Diagnosed_Diabetes     0.008199\n",
       "25                            Violent_Crimes_per_100K     0.008073\n",
       "52                         Percent_Non-Hispanic_White     0.007970\n",
       "38                      Motor_Vehicle_Deaths_per_100K     0.007939\n",
       "15                                       MHP_per_100K     0.007820\n",
       "10                           Chlamydia_Cases_per_100K     0.006919\n",
       "23  Percent_Children_Living_in_Single_Parent_House...     0.006758\n",
       "26                         Injury_Death_Rate_per_100K     0.006499\n",
       "16  Preventable_Hospitalization_Rate_per_100K_Medi...     0.006284\n",
       "9     Percent_Driving_Deaths_with_Alcohol_Involvement     0.006155\n",
       "19              Percent_Unemployed_&_Looking_for_Work     0.005755\n",
       "29  Percent_Lone_Commuters_who_Commute_More_Than_3...     0.005700\n",
       "55                                      Percent_Rural     0.005694\n",
       "18         Percent_Adults_with_Some_Post-secondary_Ed     0.005632\n",
       "45                      Percent_under_18_years_of_age     0.005563\n",
       "28  Percent_Households_with_One_or_More_Severe_Pro...     0.005336\n",
       "35                                       HIV_per_100K     0.005306\n",
       "46                            Percent_Age_65_and_over     0.005226\n",
       "50     Percent_Native_Hawaiian_Other_Pacific_Islander     0.005151\n",
       "40              Other_Primary_Care_Providers_per_100K     0.005022\n",
       "54                                     Percent_Female     0.004911\n",
       "7           Percent_Access_to_Excercise_Opportunities     0.004713\n",
       "5                           Healthy_Food_Access_Index     0.004622\n",
       "53                  Percent_Not_Proficient_in_English     0.004512\n",
       "49                                      Percent_Asian     0.004388\n",
       "37                      Drug_Overdose_Deaths_per_100K     0.003968\n",
       "13                                       PCP_per_100K     0.003947\n",
       "32                           Child_Mortality_per_100K     0.003760\n",
       "14                                  Dentists_per_100K     0.003527\n",
       "44                                Resident_Population     0.003434\n",
       "30                                   Premature_Deaths     0.002605\n",
       "33                Infant_Mortality_per_1K_live_births     0.002240\n",
       "43                                  Homicide_per_100K     0.001938"
      ]
     },
     "execution_count": 68,
     "metadata": {},
     "output_type": "execute_result"
    }
   ],
   "source": [
    "dictionary = {\"features\": X_train.columns, \"Importances\": model.feature_importances_}\n",
    "pd.DataFrame(dictionary).sort_values(by=\"Importances\", ascending=False)"
   ]
  },
  {
   "cell_type": "code",
   "execution_count": null,
   "metadata": {},
   "outputs": [],
   "source": []
  },
  {
   "cell_type": "markdown",
   "metadata": {},
   "source": [
    "###  Constructing a regressor model with the top 10 metrics."
   ]
  },
  {
   "cell_type": "code",
   "execution_count": 13,
   "metadata": {},
   "outputs": [
    {
     "data": {
      "text/plain": [
       "(3081, 62)"
      ]
     },
     "execution_count": 13,
     "metadata": {},
     "output_type": "execute_result"
    }
   ],
   "source": [
    "#Create dataframe with 10 of the most correlated metrics (Actual measurements, not derivative measures).\n",
    "county_data_2019.shape"
   ]
  },
  {
   "cell_type": "code",
   "execution_count": 14,
   "metadata": {},
   "outputs": [
    {
     "data": {
      "text/plain": [
       "(3081, 10)"
      ]
     },
     "execution_count": 14,
     "metadata": {},
     "output_type": "execute_result"
    }
   ],
   "source": [
    "topten_df = county_data_2019[[\"Premature_Age_Adjusted_Mortality_per_100K\", \n",
    "                              \"Percent_Ppl_Under65_w/o_Insurance\", \n",
    "                              \"Percent_Children_Living_in_Poverty\",\n",
    "                              \"Percent_Adult_Smokers\",\n",
    "                              \"Percent_American_Indian_or_Alaskan_Native\",\n",
    "                              \"Graduation_Rate\",\n",
    "                              \"Median_Household_Income\",\n",
    "                              \"Percent_Low_Birthweight_Births\",\n",
    "                              \"Teen_Birth_Rate\",\n",
    "                              \"Percent_Pop_w/o_Adequate_Access_to_Food\"]]\n",
    "topten_df.shape"
   ]
  },
  {
   "cell_type": "code",
   "execution_count": 15,
   "metadata": {},
   "outputs": [
    {
     "data": {
      "text/plain": [
       "(3081,)"
      ]
     },
     "execution_count": 15,
     "metadata": {},
     "output_type": "execute_result"
    }
   ],
   "source": [
    "y2 = y\n",
    "y2.shape"
   ]
  },
  {
   "cell_type": "code",
   "execution_count": 16,
   "metadata": {},
   "outputs": [],
   "source": [
    "X2 = topten_df"
   ]
  },
  {
   "cell_type": "code",
   "execution_count": 17,
   "metadata": {},
   "outputs": [
    {
     "data": {
      "text/plain": [
       "((2310, 10), (771, 10), (2310,), (771,))"
      ]
     },
     "execution_count": 17,
     "metadata": {},
     "output_type": "execute_result"
    }
   ],
   "source": [
    "X2_train, X2_test, y2_train, y2_test = train_test_split(X2, y2, random_state=4)\n",
    "X2_train.shape, X2_test.shape, y2_train.shape, y2_test.shape"
   ]
  },
  {
   "cell_type": "code",
   "execution_count": 18,
   "metadata": {},
   "outputs": [],
   "source": [
    "### Create the regressor model\n",
    "model2 = RandomForestRegressor(n_estimators= 100)"
   ]
  },
  {
   "cell_type": "code",
   "execution_count": 19,
   "metadata": {},
   "outputs": [
    {
     "data": {
      "text/plain": [
       "RandomForestRegressor(bootstrap=True, criterion='mse', max_depth=None,\n",
       "                      max_features='auto', max_leaf_nodes=None,\n",
       "                      min_impurity_decrease=0.0, min_impurity_split=None,\n",
       "                      min_samples_leaf=1, min_samples_split=2,\n",
       "                      min_weight_fraction_leaf=0.0, n_estimators=100,\n",
       "                      n_jobs=None, oob_score=False, random_state=None,\n",
       "                      verbose=0, warm_start=False)"
      ]
     },
     "execution_count": 19,
     "metadata": {},
     "output_type": "execute_result"
    }
   ],
   "source": [
    "model2.fit(X2_train, y2_train)"
   ]
  },
  {
   "cell_type": "code",
   "execution_count": 20,
   "metadata": {},
   "outputs": [
    {
     "data": {
      "text/plain": [
       "(0.9518729595890952, 0.7304490643091153)"
      ]
     },
     "execution_count": 20,
     "metadata": {},
     "output_type": "execute_result"
    }
   ],
   "source": [
    "model2.score(X2_train, y2_train), model2.score(X2_test, y2_test)"
   ]
  },
  {
   "cell_type": "markdown",
   "metadata": {},
   "source": [
    "### Given the top 10 metrics regression is almost as good as use of all 50+ metrics, proceed to evaluate optimized model parameters based on these metrics."
   ]
  },
  {
   "cell_type": "code",
   "execution_count": 94,
   "metadata": {},
   "outputs": [],
   "source": [
    "from sklearn.model_selection import GridSearchCV\n",
    "\n",
    "param_grid = {\"n_estimators\": [25, 50, 100, 200, 500],\n",
    "             \"random_state\": [0, 5, 10, 15, 20, 25]}\n",
    "\n",
    "grid = GridSearchCV(model, param_grid, verbose=3)"
   ]
  },
  {
   "cell_type": "code",
   "execution_count": 95,
   "metadata": {},
   "outputs": [
    {
     "name": "stderr",
     "output_type": "stream",
     "text": [
      "C:\\Users\\StevenJBark\\Anaconda3\\lib\\site-packages\\sklearn\\model_selection\\_split.py:1978: FutureWarning: The default value of cv will change from 3 to 5 in version 0.22. Specify it explicitly to silence this warning.\n",
      "  warnings.warn(CV_WARNING, FutureWarning)\n",
      "[Parallel(n_jobs=1)]: Using backend SequentialBackend with 1 concurrent workers.\n"
     ]
    },
    {
     "name": "stdout",
     "output_type": "stream",
     "text": [
      "Fitting 3 folds for each of 30 candidates, totalling 90 fits\n",
      "[CV] n_estimators=25, random_state=0 .................................\n",
      "[CV] ..... n_estimators=25, random_state=0, score=0.596, total=   0.2s\n",
      "[CV] n_estimators=25, random_state=0 .................................\n"
     ]
    },
    {
     "name": "stderr",
     "output_type": "stream",
     "text": [
      "[Parallel(n_jobs=1)]: Done   1 out of   1 | elapsed:    0.1s remaining:    0.0s\n"
     ]
    },
    {
     "name": "stdout",
     "output_type": "stream",
     "text": [
      "[CV] ..... n_estimators=25, random_state=0, score=0.624, total=   0.2s\n",
      "[CV] n_estimators=25, random_state=0 .................................\n"
     ]
    },
    {
     "name": "stderr",
     "output_type": "stream",
     "text": [
      "[Parallel(n_jobs=1)]: Done   2 out of   2 | elapsed:    0.4s remaining:    0.0s\n"
     ]
    },
    {
     "name": "stdout",
     "output_type": "stream",
     "text": [
      "[CV] ..... n_estimators=25, random_state=0, score=0.620, total=   0.2s\n",
      "[CV] n_estimators=25, random_state=5 .................................\n",
      "[CV] ..... n_estimators=25, random_state=5, score=0.581, total=   0.2s\n",
      "[CV] n_estimators=25, random_state=5 .................................\n",
      "[CV] ..... n_estimators=25, random_state=5, score=0.617, total=   0.2s\n",
      "[CV] n_estimators=25, random_state=5 .................................\n",
      "[CV] ..... n_estimators=25, random_state=5, score=0.638, total=   0.2s\n",
      "[CV] n_estimators=25, random_state=10 ................................\n",
      "[CV] .... n_estimators=25, random_state=10, score=0.574, total=   0.2s\n",
      "[CV] n_estimators=25, random_state=10 ................................\n",
      "[CV] .... n_estimators=25, random_state=10, score=0.625, total=   0.2s\n",
      "[CV] n_estimators=25, random_state=10 ................................\n",
      "[CV] .... n_estimators=25, random_state=10, score=0.642, total=   0.2s\n",
      "[CV] n_estimators=25, random_state=15 ................................\n",
      "[CV] .... n_estimators=25, random_state=15, score=0.609, total=   0.2s\n",
      "[CV] n_estimators=25, random_state=15 ................................\n",
      "[CV] .... n_estimators=25, random_state=15, score=0.623, total=   0.2s\n",
      "[CV] n_estimators=25, random_state=15 ................................\n",
      "[CV] .... n_estimators=25, random_state=15, score=0.657, total=   0.2s\n",
      "[CV] n_estimators=25, random_state=20 ................................\n",
      "[CV] .... n_estimators=25, random_state=20, score=0.601, total=   0.2s\n",
      "[CV] n_estimators=25, random_state=20 ................................\n",
      "[CV] .... n_estimators=25, random_state=20, score=0.628, total=   0.2s\n",
      "[CV] n_estimators=25, random_state=20 ................................\n",
      "[CV] .... n_estimators=25, random_state=20, score=0.642, total=   0.2s\n",
      "[CV] n_estimators=25, random_state=25 ................................\n",
      "[CV] .... n_estimators=25, random_state=25, score=0.591, total=   0.2s\n",
      "[CV] n_estimators=25, random_state=25 ................................\n",
      "[CV] .... n_estimators=25, random_state=25, score=0.611, total=   0.2s\n",
      "[CV] n_estimators=25, random_state=25 ................................\n",
      "[CV] .... n_estimators=25, random_state=25, score=0.643, total=   0.2s\n",
      "[CV] n_estimators=50, random_state=0 .................................\n",
      "[CV] ..... n_estimators=50, random_state=0, score=0.607, total=   0.4s\n",
      "[CV] n_estimators=50, random_state=0 .................................\n",
      "[CV] ..... n_estimators=50, random_state=0, score=0.630, total=   0.4s\n",
      "[CV] n_estimators=50, random_state=0 .................................\n",
      "[CV] ..... n_estimators=50, random_state=0, score=0.651, total=   0.5s\n",
      "[CV] n_estimators=50, random_state=5 .................................\n",
      "[CV] ..... n_estimators=50, random_state=5, score=0.590, total=   0.5s\n",
      "[CV] n_estimators=50, random_state=5 .................................\n",
      "[CV] ..... n_estimators=50, random_state=5, score=0.636, total=   0.5s\n",
      "[CV] n_estimators=50, random_state=5 .................................\n",
      "[CV] ..... n_estimators=50, random_state=5, score=0.639, total=   0.4s\n",
      "[CV] n_estimators=50, random_state=10 ................................\n",
      "[CV] .... n_estimators=50, random_state=10, score=0.596, total=   0.4s\n",
      "[CV] n_estimators=50, random_state=10 ................................\n",
      "[CV] .... n_estimators=50, random_state=10, score=0.635, total=   0.4s\n",
      "[CV] n_estimators=50, random_state=10 ................................\n",
      "[CV] .... n_estimators=50, random_state=10, score=0.654, total=   0.4s\n",
      "[CV] n_estimators=50, random_state=15 ................................\n",
      "[CV] .... n_estimators=50, random_state=15, score=0.602, total=   0.4s\n",
      "[CV] n_estimators=50, random_state=15 ................................\n",
      "[CV] .... n_estimators=50, random_state=15, score=0.636, total=   0.4s\n",
      "[CV] n_estimators=50, random_state=15 ................................\n",
      "[CV] .... n_estimators=50, random_state=15, score=0.666, total=   0.4s\n",
      "[CV] n_estimators=50, random_state=20 ................................\n",
      "[CV] .... n_estimators=50, random_state=20, score=0.609, total=   0.4s\n",
      "[CV] n_estimators=50, random_state=20 ................................\n",
      "[CV] .... n_estimators=50, random_state=20, score=0.633, total=   0.5s\n",
      "[CV] n_estimators=50, random_state=20 ................................\n",
      "[CV] .... n_estimators=50, random_state=20, score=0.652, total=   0.5s\n",
      "[CV] n_estimators=50, random_state=25 ................................\n",
      "[CV] .... n_estimators=50, random_state=25, score=0.598, total=   0.4s\n",
      "[CV] n_estimators=50, random_state=25 ................................\n",
      "[CV] .... n_estimators=50, random_state=25, score=0.620, total=   0.4s\n",
      "[CV] n_estimators=50, random_state=25 ................................\n",
      "[CV] .... n_estimators=50, random_state=25, score=0.656, total=   0.4s\n",
      "[CV] n_estimators=100, random_state=0 ................................\n",
      "[CV] .... n_estimators=100, random_state=0, score=0.611, total=   0.9s\n",
      "[CV] n_estimators=100, random_state=0 ................................\n",
      "[CV] .... n_estimators=100, random_state=0, score=0.634, total=   0.9s\n",
      "[CV] n_estimators=100, random_state=0 ................................\n",
      "[CV] .... n_estimators=100, random_state=0, score=0.659, total=   0.9s\n",
      "[CV] n_estimators=100, random_state=5 ................................\n",
      "[CV] .... n_estimators=100, random_state=5, score=0.598, total=   0.9s\n",
      "[CV] n_estimators=100, random_state=5 ................................\n",
      "[CV] .... n_estimators=100, random_state=5, score=0.638, total=   0.9s\n",
      "[CV] n_estimators=100, random_state=5 ................................\n",
      "[CV] .... n_estimators=100, random_state=5, score=0.648, total=   0.9s\n",
      "[CV] n_estimators=100, random_state=10 ...............................\n",
      "[CV] ... n_estimators=100, random_state=10, score=0.603, total=   0.9s\n",
      "[CV] n_estimators=100, random_state=10 ...............................\n",
      "[CV] ... n_estimators=100, random_state=10, score=0.638, total=   0.9s\n",
      "[CV] n_estimators=100, random_state=10 ...............................\n",
      "[CV] ... n_estimators=100, random_state=10, score=0.656, total=   0.9s\n",
      "[CV] n_estimators=100, random_state=15 ...............................\n",
      "[CV] ... n_estimators=100, random_state=15, score=0.610, total=   0.9s\n",
      "[CV] n_estimators=100, random_state=15 ...............................\n",
      "[CV] ... n_estimators=100, random_state=15, score=0.634, total=   0.9s\n",
      "[CV] n_estimators=100, random_state=15 ...............................\n",
      "[CV] ... n_estimators=100, random_state=15, score=0.668, total=   0.9s\n",
      "[CV] n_estimators=100, random_state=20 ...............................\n",
      "[CV] ... n_estimators=100, random_state=20, score=0.619, total=   0.9s\n",
      "[CV] n_estimators=100, random_state=20 ...............................\n",
      "[CV] ... n_estimators=100, random_state=20, score=0.637, total=   0.9s\n",
      "[CV] n_estimators=100, random_state=20 ...............................\n",
      "[CV] ... n_estimators=100, random_state=20, score=0.656, total=   0.9s\n",
      "[CV] n_estimators=100, random_state=25 ...............................\n",
      "[CV] ... n_estimators=100, random_state=25, score=0.612, total=   0.9s\n",
      "[CV] n_estimators=100, random_state=25 ...............................\n",
      "[CV] ... n_estimators=100, random_state=25, score=0.634, total=   0.9s\n",
      "[CV] n_estimators=100, random_state=25 ...............................\n",
      "[CV] ... n_estimators=100, random_state=25, score=0.659, total=   0.9s\n",
      "[CV] n_estimators=200, random_state=0 ................................\n",
      "[CV] .... n_estimators=200, random_state=0, score=0.611, total=   1.8s\n",
      "[CV] n_estimators=200, random_state=0 ................................\n",
      "[CV] .... n_estimators=200, random_state=0, score=0.636, total=   1.8s\n",
      "[CV] n_estimators=200, random_state=0 ................................\n",
      "[CV] .... n_estimators=200, random_state=0, score=0.661, total=   1.8s\n",
      "[CV] n_estimators=200, random_state=5 ................................\n",
      "[CV] .... n_estimators=200, random_state=5, score=0.610, total=   1.7s\n",
      "[CV] n_estimators=200, random_state=5 ................................\n",
      "[CV] .... n_estimators=200, random_state=5, score=0.639, total=   1.7s\n",
      "[CV] n_estimators=200, random_state=5 ................................\n",
      "[CV] .... n_estimators=200, random_state=5, score=0.651, total=   1.7s\n",
      "[CV] n_estimators=200, random_state=10 ...............................\n"
     ]
    },
    {
     "name": "stdout",
     "output_type": "stream",
     "text": [
      "[CV] ... n_estimators=200, random_state=10, score=0.610, total=   1.7s\n",
      "[CV] n_estimators=200, random_state=10 ...............................\n",
      "[CV] ... n_estimators=200, random_state=10, score=0.641, total=   1.7s\n",
      "[CV] n_estimators=200, random_state=10 ...............................\n",
      "[CV] ... n_estimators=200, random_state=10, score=0.659, total=   1.8s\n",
      "[CV] n_estimators=200, random_state=15 ...............................\n",
      "[CV] ... n_estimators=200, random_state=15, score=0.612, total=   1.7s\n",
      "[CV] n_estimators=200, random_state=15 ...............................\n",
      "[CV] ... n_estimators=200, random_state=15, score=0.635, total=   1.7s\n",
      "[CV] n_estimators=200, random_state=15 ...............................\n",
      "[CV] ... n_estimators=200, random_state=15, score=0.663, total=   1.7s\n",
      "[CV] n_estimators=200, random_state=20 ...............................\n",
      "[CV] ... n_estimators=200, random_state=20, score=0.611, total=   1.8s\n",
      "[CV] n_estimators=200, random_state=20 ...............................\n",
      "[CV] ... n_estimators=200, random_state=20, score=0.639, total=   1.7s\n",
      "[CV] n_estimators=200, random_state=20 ...............................\n",
      "[CV] ... n_estimators=200, random_state=20, score=0.657, total=   1.7s\n",
      "[CV] n_estimators=200, random_state=25 ...............................\n",
      "[CV] ... n_estimators=200, random_state=25, score=0.610, total=   1.7s\n",
      "[CV] n_estimators=200, random_state=25 ...............................\n",
      "[CV] ... n_estimators=200, random_state=25, score=0.634, total=   1.7s\n",
      "[CV] n_estimators=200, random_state=25 ...............................\n",
      "[CV] ... n_estimators=200, random_state=25, score=0.656, total=   1.8s\n",
      "[CV] n_estimators=500, random_state=0 ................................\n",
      "[CV] .... n_estimators=500, random_state=0, score=0.612, total=   4.3s\n",
      "[CV] n_estimators=500, random_state=0 ................................\n",
      "[CV] .... n_estimators=500, random_state=0, score=0.638, total=   4.5s\n",
      "[CV] n_estimators=500, random_state=0 ................................\n",
      "[CV] .... n_estimators=500, random_state=0, score=0.661, total=   4.3s\n",
      "[CV] n_estimators=500, random_state=5 ................................\n",
      "[CV] .... n_estimators=500, random_state=5, score=0.608, total=   4.3s\n",
      "[CV] n_estimators=500, random_state=5 ................................\n",
      "[CV] .... n_estimators=500, random_state=5, score=0.639, total=   4.2s\n",
      "[CV] n_estimators=500, random_state=5 ................................\n",
      "[CV] .... n_estimators=500, random_state=5, score=0.657, total=   4.3s\n",
      "[CV] n_estimators=500, random_state=10 ...............................\n",
      "[CV] ... n_estimators=500, random_state=10, score=0.610, total=   4.2s\n",
      "[CV] n_estimators=500, random_state=10 ...............................\n",
      "[CV] ... n_estimators=500, random_state=10, score=0.641, total=   4.3s\n",
      "[CV] n_estimators=500, random_state=10 ...............................\n",
      "[CV] ... n_estimators=500, random_state=10, score=0.660, total=   4.4s\n",
      "[CV] n_estimators=500, random_state=15 ...............................\n",
      "[CV] ... n_estimators=500, random_state=15, score=0.610, total=   4.3s\n",
      "[CV] n_estimators=500, random_state=15 ...............................\n",
      "[CV] ... n_estimators=500, random_state=15, score=0.639, total=   4.3s\n",
      "[CV] n_estimators=500, random_state=15 ...............................\n",
      "[CV] ... n_estimators=500, random_state=15, score=0.661, total=   4.3s\n",
      "[CV] n_estimators=500, random_state=20 ...............................\n",
      "[CV] ... n_estimators=500, random_state=20, score=0.613, total=   4.3s\n",
      "[CV] n_estimators=500, random_state=20 ...............................\n",
      "[CV] ... n_estimators=500, random_state=20, score=0.639, total=   4.4s\n",
      "[CV] n_estimators=500, random_state=20 ...............................\n",
      "[CV] ... n_estimators=500, random_state=20, score=0.662, total=   4.3s\n",
      "[CV] n_estimators=500, random_state=25 ...............................\n",
      "[CV] ... n_estimators=500, random_state=25, score=0.611, total=   4.3s\n",
      "[CV] n_estimators=500, random_state=25 ...............................\n",
      "[CV] ... n_estimators=500, random_state=25, score=0.636, total=   4.3s\n",
      "[CV] n_estimators=500, random_state=25 ...............................\n",
      "[CV] ... n_estimators=500, random_state=25, score=0.657, total=   4.2s\n"
     ]
    },
    {
     "name": "stderr",
     "output_type": "stream",
     "text": [
      "[Parallel(n_jobs=1)]: Done  90 out of  90 | elapsed:  2.3min finished\n"
     ]
    },
    {
     "data": {
      "text/plain": [
       "GridSearchCV(cv='warn', error_score='raise-deprecating',\n",
       "             estimator=RandomForestRegressor(bootstrap=True, criterion='mse',\n",
       "                                             max_depth=None,\n",
       "                                             max_features='auto',\n",
       "                                             max_leaf_nodes=None,\n",
       "                                             min_impurity_decrease=0.0,\n",
       "                                             min_impurity_split=None,\n",
       "                                             min_samples_leaf=1,\n",
       "                                             min_samples_split=2,\n",
       "                                             min_weight_fraction_leaf=0.0,\n",
       "                                             n_estimators=100, n_jobs=None,\n",
       "                                             oob_score=False, random_state=None,\n",
       "                                             verbose=0, warm_start=False),\n",
       "             iid='warn', n_jobs=None,\n",
       "             param_grid={'n_estimators': [25, 50, 100, 200, 500],\n",
       "                         'random_state': [0, 5, 10, 15, 20, 25]},\n",
       "             pre_dispatch='2*n_jobs', refit=True, return_train_score=False,\n",
       "             scoring=None, verbose=3)"
      ]
     },
     "execution_count": 95,
     "metadata": {},
     "output_type": "execute_result"
    }
   ],
   "source": [
    "grid.fit(X2_train, y2_train)"
   ]
  },
  {
   "cell_type": "code",
   "execution_count": 98,
   "metadata": {},
   "outputs": [
    {
     "name": "stdout",
     "output_type": "stream",
     "text": [
      "{'n_estimators': 500, 'random_state': 20}\n"
     ]
    }
   ],
   "source": [
    "print(grid.best_params_)"
   ]
  },
  {
   "cell_type": "code",
   "execution_count": 99,
   "metadata": {},
   "outputs": [
    {
     "name": "stdout",
     "output_type": "stream",
     "text": [
      "0.6378542946205386\n"
     ]
    }
   ],
   "source": [
    "print(grid.best_score_)"
   ]
  },
  {
   "cell_type": "markdown",
   "metadata": {},
   "source": [
    "### Check result from grid and and compare to unoptimized model."
   ]
  },
  {
   "cell_type": "code",
   "execution_count": 102,
   "metadata": {},
   "outputs": [
    {
     "data": {
      "text/plain": [
       "0.7303642405201143"
      ]
     },
     "execution_count": 102,
     "metadata": {},
     "output_type": "execute_result"
    }
   ],
   "source": [
    "grid.score(X2_test, y2_test)"
   ]
  },
  {
   "cell_type": "markdown",
   "metadata": {},
   "source": [
    "### Bring these parameters into the model to identify importances for reference."
   ]
  },
  {
   "cell_type": "code",
   "execution_count": 21,
   "metadata": {},
   "outputs": [],
   "source": [
    "### Create the regressor model with optimized parameters and test on the same training and test data.\n",
    "model3 = RandomForestRegressor(n_estimators = 500, random_state= 20)"
   ]
  },
  {
   "cell_type": "code",
   "execution_count": 22,
   "metadata": {},
   "outputs": [
    {
     "data": {
      "text/plain": [
       "RandomForestRegressor(bootstrap=True, criterion='mse', max_depth=None,\n",
       "                      max_features='auto', max_leaf_nodes=None,\n",
       "                      min_impurity_decrease=0.0, min_impurity_split=None,\n",
       "                      min_samples_leaf=1, min_samples_split=2,\n",
       "                      min_weight_fraction_leaf=0.0, n_estimators=500,\n",
       "                      n_jobs=None, oob_score=False, random_state=20, verbose=0,\n",
       "                      warm_start=False)"
      ]
     },
     "execution_count": 22,
     "metadata": {},
     "output_type": "execute_result"
    }
   ],
   "source": [
    "model3.fit(X2_train, y2_train)"
   ]
  },
  {
   "cell_type": "code",
   "execution_count": 23,
   "metadata": {},
   "outputs": [
    {
     "data": {
      "text/plain": [
       "(0.9532463908373481, 0.7303642405201143)"
      ]
     },
     "execution_count": 23,
     "metadata": {},
     "output_type": "execute_result"
    }
   ],
   "source": [
    "model3.score(X2_train, y2_train), model3.score(X2_test, y2_test)"
   ]
  },
  {
   "cell_type": "code",
   "execution_count": 25,
   "metadata": {},
   "outputs": [
    {
     "data": {
      "text/plain": [
       "array([0.20785614, 0.19055912, 0.14285564, 0.08841229, 0.07069984,\n",
       "       0.06827106, 0.07183798, 0.05958643, 0.05317772, 0.04674379])"
      ]
     },
     "execution_count": 25,
     "metadata": {},
     "output_type": "execute_result"
    }
   ],
   "source": [
    "model3.feature_importances_"
   ]
  },
  {
   "cell_type": "markdown",
   "metadata": {},
   "source": [
    "### Import Pickle for saving model "
   ]
  },
  {
   "cell_type": "code",
   "execution_count": 27,
   "metadata": {},
   "outputs": [],
   "source": [
    "import pickle"
   ]
  },
  {
   "cell_type": "code",
   "execution_count": 121,
   "metadata": {},
   "outputs": [],
   "source": [
    "filename=\"RF_Regressor.sav\""
   ]
  },
  {
   "cell_type": "code",
   "execution_count": 122,
   "metadata": {},
   "outputs": [],
   "source": [
    "pickle.dump(grid, open(filename, 'wb'))"
   ]
  },
  {
   "cell_type": "code",
   "execution_count": null,
   "metadata": {},
   "outputs": [],
   "source": []
  },
  {
   "cell_type": "markdown",
   "metadata": {},
   "source": [
    "### Reload the model and test"
   ]
  },
  {
   "cell_type": "code",
   "execution_count": 30,
   "metadata": {},
   "outputs": [],
   "source": [
    "load_model = pickle.load(open(\"RF_Regressor.sav\", 'rb'))"
   ]
  },
  {
   "cell_type": "code",
   "execution_count": 34,
   "metadata": {},
   "outputs": [],
   "source": [
    "predictions1 = load_model.predict(X2_test)"
   ]
  },
  {
   "cell_type": "code",
   "execution_count": 35,
   "metadata": {},
   "outputs": [],
   "source": [
    "predictions2 = model3.predict(X2_test)"
   ]
  },
  {
   "cell_type": "code",
   "execution_count": 37,
   "metadata": {},
   "outputs": [
    {
     "data": {
      "text/plain": [
       "(array([28.288, 98.948, 32.52 , 22.374, 59.042, 43.294, 32.582, 53.388,\n",
       "        48.804, 67.184, 89.87 , 58.972, 73.698, 14.07 ,  4.63 , 84.212,\n",
       "        53.716, 42.802, 63.498,  5.35 , 35.728, 62.592, 38.906, 52.44 ]),\n",
       " array([28.288, 98.948, 32.52 , 22.374, 59.042, 43.294, 32.582, 53.388,\n",
       "        48.804, 67.184, 89.87 , 58.972, 73.698, 14.07 ,  4.63 , 84.212,\n",
       "        53.716, 42.802, 63.498,  5.35 , 35.728, 62.592, 38.906, 52.44 ]))"
      ]
     },
     "execution_count": 37,
     "metadata": {},
     "output_type": "execute_result"
    }
   ],
   "source": [
    "predictions1[75:99], predictions2[75:99]"
   ]
  },
  {
   "cell_type": "code",
   "execution_count": null,
   "metadata": {},
   "outputs": [],
   "source": []
  }
 ],
 "metadata": {
  "kernelspec": {
   "display_name": "Python 3",
   "language": "python",
   "name": "python3"
  },
  "language_info": {
   "codemirror_mode": {
    "name": "ipython",
    "version": 3
   },
   "file_extension": ".py",
   "mimetype": "text/x-python",
   "name": "python",
   "nbconvert_exporter": "python",
   "pygments_lexer": "ipython3",
   "version": "3.7.3"
  }
 },
 "nbformat": 4,
 "nbformat_minor": 4
}
