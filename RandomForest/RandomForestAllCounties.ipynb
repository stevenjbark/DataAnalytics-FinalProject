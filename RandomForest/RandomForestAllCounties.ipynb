{
 "cells": [
  {
   "cell_type": "markdown",
   "metadata": {},
   "source": [
    "# 2019 Health Care Ranking Feature Importance Calculator"
   ]
  },
  {
   "cell_type": "markdown",
   "metadata": {},
   "source": [
    "## Random Forest"
   ]
  },
  {
   "cell_type": "markdown",
   "metadata": {},
   "source": [
    "### Import Dependencies "
   ]
  },
  {
   "cell_type": "code",
   "execution_count": 1,
   "metadata": {},
   "outputs": [],
   "source": [
    "import matplotlib.pyplot as plt\n",
    "import numpy as np\n",
    "import pandas as pd\n",
    "\n",
    "## Import the random forest model.\n",
    "from sklearn.ensemble import RandomForestClassifier \n",
    "\n",
    "## This line instantiates the model. \n",
    "rf = RandomForestClassifier() \n",
    "\n",
    "## Import to decode categorical columns.\n",
    "from sklearn.preprocessing import LabelEncoder, OneHotEncoder"
   ]
  },
  {
   "cell_type": "markdown",
   "metadata": {},
   "source": [
    "### Read the csv file into a pandas DataFrame"
   ]
  },
  {
   "cell_type": "code",
   "execution_count": 9,
   "metadata": {},
   "outputs": [
    {
     "data": {
      "text/html": [
       "<div>\n",
       "<style scoped>\n",
       "    .dataframe tbody tr th:only-of-type {\n",
       "        vertical-align: middle;\n",
       "    }\n",
       "\n",
       "    .dataframe tbody tr th {\n",
       "        vertical-align: top;\n",
       "    }\n",
       "\n",
       "    .dataframe thead th {\n",
       "        text-align: right;\n",
       "    }\n",
       "</style>\n",
       "<table border=\"1\" class=\"dataframe\">\n",
       "  <thead>\n",
       "    <tr style=\"text-align: right;\">\n",
       "      <th></th>\n",
       "      <th>FIPS</th>\n",
       "      <th>State</th>\n",
       "      <th>County/Borough/Parish</th>\n",
       "      <th>Year</th>\n",
       "      <th>Health_Outcomes_Rank</th>\n",
       "      <th>Yrs_Potential_Life_Lost_per_100K</th>\n",
       "      <th>Percent_Fair/Poor_Health</th>\n",
       "      <th>Percent_Low_Birthweight_Births</th>\n",
       "      <th>Percent_Adult_Smokers</th>\n",
       "      <th>Percent_Adult_Obesity</th>\n",
       "      <th>...</th>\n",
       "      <th>Percent_Age_65_and_over</th>\n",
       "      <th>Percent_Non-Hispanic_Black_or_African_American</th>\n",
       "      <th>Percent_American_Indian_or_Alaskan_Native</th>\n",
       "      <th>Percent_Asian</th>\n",
       "      <th>Percent_Native_Hawaiian_Other_Pacific_Islander</th>\n",
       "      <th>Percent_Hispanic</th>\n",
       "      <th>Percent_Non-Hispanic_White</th>\n",
       "      <th>Percent_Not_Proficient_in_English</th>\n",
       "      <th>Percent_Female</th>\n",
       "      <th>Percent_Rural</th>\n",
       "    </tr>\n",
       "  </thead>\n",
       "  <tbody>\n",
       "    <tr>\n",
       "      <th>0</th>\n",
       "      <td>1000.0</td>\n",
       "      <td>Alabama</td>\n",
       "      <td>0</td>\n",
       "      <td>2020</td>\n",
       "      <td>0.0</td>\n",
       "      <td>9942.794666</td>\n",
       "      <td>22.028703</td>\n",
       "      <td>10.254871</td>\n",
       "      <td>20.927353</td>\n",
       "      <td>35.5</td>\n",
       "      <td>...</td>\n",
       "      <td>16.917263</td>\n",
       "      <td>26.497733</td>\n",
       "      <td>0.703271</td>\n",
       "      <td>1.496909</td>\n",
       "      <td>0.106529</td>\n",
       "      <td>4.443264</td>\n",
       "      <td>65.413428</td>\n",
       "      <td>1.061048</td>\n",
       "      <td>51.633032</td>\n",
       "      <td>40.963183</td>\n",
       "    </tr>\n",
       "    <tr>\n",
       "      <th>1</th>\n",
       "      <td>1001.0</td>\n",
       "      <td>Alabama</td>\n",
       "      <td>Autauga</td>\n",
       "      <td>2020</td>\n",
       "      <td>6.0</td>\n",
       "      <td>8128.591190</td>\n",
       "      <td>20.882987</td>\n",
       "      <td>8.619529</td>\n",
       "      <td>18.081557</td>\n",
       "      <td>33.3</td>\n",
       "      <td>...</td>\n",
       "      <td>15.562670</td>\n",
       "      <td>19.343177</td>\n",
       "      <td>0.480207</td>\n",
       "      <td>1.224798</td>\n",
       "      <td>0.111509</td>\n",
       "      <td>2.965774</td>\n",
       "      <td>74.308016</td>\n",
       "      <td>0.820225</td>\n",
       "      <td>51.448715</td>\n",
       "      <td>42.002162</td>\n",
       "    </tr>\n",
       "    <tr>\n",
       "      <th>2</th>\n",
       "      <td>1003.0</td>\n",
       "      <td>Alabama</td>\n",
       "      <td>Baldwin</td>\n",
       "      <td>2020</td>\n",
       "      <td>2.0</td>\n",
       "      <td>7354.122530</td>\n",
       "      <td>17.509134</td>\n",
       "      <td>8.345003</td>\n",
       "      <td>17.489033</td>\n",
       "      <td>31.0</td>\n",
       "      <td>...</td>\n",
       "      <td>20.443350</td>\n",
       "      <td>8.783976</td>\n",
       "      <td>0.772399</td>\n",
       "      <td>1.150343</td>\n",
       "      <td>0.066966</td>\n",
       "      <td>4.646779</td>\n",
       "      <td>83.111337</td>\n",
       "      <td>0.543517</td>\n",
       "      <td>51.538377</td>\n",
       "      <td>42.279099</td>\n",
       "    </tr>\n",
       "    <tr>\n",
       "      <th>3</th>\n",
       "      <td>1005.0</td>\n",
       "      <td>Alabama</td>\n",
       "      <td>Barbour</td>\n",
       "      <td>2020</td>\n",
       "      <td>45.0</td>\n",
       "      <td>10253.573403</td>\n",
       "      <td>29.591802</td>\n",
       "      <td>11.474559</td>\n",
       "      <td>21.999985</td>\n",
       "      <td>41.7</td>\n",
       "      <td>...</td>\n",
       "      <td>19.420441</td>\n",
       "      <td>48.032635</td>\n",
       "      <td>0.659137</td>\n",
       "      <td>0.454162</td>\n",
       "      <td>0.184880</td>\n",
       "      <td>4.276355</td>\n",
       "      <td>45.641252</td>\n",
       "      <td>1.631683</td>\n",
       "      <td>47.216752</td>\n",
       "      <td>67.789635</td>\n",
       "    </tr>\n",
       "    <tr>\n",
       "      <th>4</th>\n",
       "      <td>1007.0</td>\n",
       "      <td>Alabama</td>\n",
       "      <td>Bibb</td>\n",
       "      <td>2020</td>\n",
       "      <td>34.0</td>\n",
       "      <td>11977.539484</td>\n",
       "      <td>19.439724</td>\n",
       "      <td>10.308710</td>\n",
       "      <td>19.114200</td>\n",
       "      <td>37.6</td>\n",
       "      <td>...</td>\n",
       "      <td>16.473214</td>\n",
       "      <td>21.120536</td>\n",
       "      <td>0.437500</td>\n",
       "      <td>0.236607</td>\n",
       "      <td>0.116071</td>\n",
       "      <td>2.625000</td>\n",
       "      <td>74.589286</td>\n",
       "      <td>0.268210</td>\n",
       "      <td>46.781250</td>\n",
       "      <td>68.352607</td>\n",
       "    </tr>\n",
       "  </tbody>\n",
       "</table>\n",
       "<p>5 rows × 62 columns</p>\n",
       "</div>"
      ],
      "text/plain": [
       "     FIPS    State County/Borough/Parish  Year  Health_Outcomes_Rank  \\\n",
       "0  1000.0  Alabama                     0  2020                   0.0   \n",
       "1  1001.0  Alabama               Autauga  2020                   6.0   \n",
       "2  1003.0  Alabama               Baldwin  2020                   2.0   \n",
       "3  1005.0  Alabama               Barbour  2020                  45.0   \n",
       "4  1007.0  Alabama                  Bibb  2020                  34.0   \n",
       "\n",
       "   Yrs_Potential_Life_Lost_per_100K  Percent_Fair/Poor_Health  \\\n",
       "0                       9942.794666                 22.028703   \n",
       "1                       8128.591190                 20.882987   \n",
       "2                       7354.122530                 17.509134   \n",
       "3                      10253.573403                 29.591802   \n",
       "4                      11977.539484                 19.439724   \n",
       "\n",
       "   Percent_Low_Birthweight_Births  Percent_Adult_Smokers  \\\n",
       "0                       10.254871              20.927353   \n",
       "1                        8.619529              18.081557   \n",
       "2                        8.345003              17.489033   \n",
       "3                       11.474559              21.999985   \n",
       "4                       10.308710              19.114200   \n",
       "\n",
       "   Percent_Adult_Obesity  ...  Percent_Age_65_and_over  \\\n",
       "0                   35.5  ...                16.917263   \n",
       "1                   33.3  ...                15.562670   \n",
       "2                   31.0  ...                20.443350   \n",
       "3                   41.7  ...                19.420441   \n",
       "4                   37.6  ...                16.473214   \n",
       "\n",
       "   Percent_Non-Hispanic_Black_or_African_American  \\\n",
       "0                                       26.497733   \n",
       "1                                       19.343177   \n",
       "2                                        8.783976   \n",
       "3                                       48.032635   \n",
       "4                                       21.120536   \n",
       "\n",
       "   Percent_American_Indian_or_Alaskan_Native  Percent_Asian  \\\n",
       "0                                   0.703271       1.496909   \n",
       "1                                   0.480207       1.224798   \n",
       "2                                   0.772399       1.150343   \n",
       "3                                   0.659137       0.454162   \n",
       "4                                   0.437500       0.236607   \n",
       "\n",
       "   Percent_Native_Hawaiian_Other_Pacific_Islander  Percent_Hispanic  \\\n",
       "0                                        0.106529          4.443264   \n",
       "1                                        0.111509          2.965774   \n",
       "2                                        0.066966          4.646779   \n",
       "3                                        0.184880          4.276355   \n",
       "4                                        0.116071          2.625000   \n",
       "\n",
       "   Percent_Non-Hispanic_White  Percent_Not_Proficient_in_English  \\\n",
       "0                   65.413428                           1.061048   \n",
       "1                   74.308016                           0.820225   \n",
       "2                   83.111337                           0.543517   \n",
       "3                   45.641252                           1.631683   \n",
       "4                   74.589286                           0.268210   \n",
       "\n",
       "   Percent_Female  Percent_Rural  \n",
       "0       51.633032      40.963183  \n",
       "1       51.448715      42.002162  \n",
       "2       51.538377      42.279099  \n",
       "3       47.216752      67.789635  \n",
       "4       46.781250      68.352607  \n",
       "\n",
       "[5 rows x 62 columns]"
      ]
     },
     "execution_count": 9,
     "metadata": {},
     "output_type": "execute_result"
    }
   ],
   "source": [
    "training__counties_data = pd.read_csv('Cleaned_Files/Training_Data_All_Years_All_Counties.csv')\n",
    "training__counties_data.head()"
   ]
  },
  {
   "cell_type": "markdown",
   "metadata": {},
   "source": [
    "### 2019 Trainining Data "
   ]
  },
  {
   "cell_type": "code",
   "execution_count": 7,
   "metadata": {},
   "outputs": [
    {
     "data": {
      "text/plain": [
       "(3132, 62)"
      ]
     },
     "execution_count": 7,
     "metadata": {},
     "output_type": "execute_result"
    }
   ],
   "source": [
    "Train_Count_2019= training__counties_data[training__counties_data['Year']==2019]\n",
    "Train_Count_2019.shape"
   ]
  },
  {
   "cell_type": "markdown",
   "metadata": {},
   "source": [
    "### Check in 2019 Training Data number Unique States "
   ]
  },
  {
   "cell_type": "code",
   "execution_count": 18,
   "metadata": {},
   "outputs": [
    {
     "data": {
      "text/plain": [
       "51"
      ]
     },
     "execution_count": 18,
     "metadata": {},
     "output_type": "execute_result"
    }
   ],
   "source": [
    "Train_Count_2019['State'].nunique()"
   ]
  },
  {
   "cell_type": "markdown",
   "metadata": {},
   "source": [
    "### Check in 2019 Training Data number Unique Counties "
   ]
  },
  {
   "cell_type": "code",
   "execution_count": 19,
   "metadata": {},
   "outputs": [
    {
     "data": {
      "text/plain": [
       "1813"
      ]
     },
     "execution_count": 19,
     "metadata": {},
     "output_type": "execute_result"
    }
   ],
   "source": [
    "Train_Count_2019['County/Borough/Parish'].nunique()"
   ]
  },
  {
   "cell_type": "markdown",
   "metadata": {},
   "source": [
    "### Test County data contains no values under Health_Outcomes_Rank"
   ]
  },
  {
   "cell_type": "code",
   "execution_count": 24,
   "metadata": {},
   "outputs": [
    {
     "data": {
      "text/html": [
       "<div>\n",
       "<style scoped>\n",
       "    .dataframe tbody tr th:only-of-type {\n",
       "        vertical-align: middle;\n",
       "    }\n",
       "\n",
       "    .dataframe tbody tr th {\n",
       "        vertical-align: top;\n",
       "    }\n",
       "\n",
       "    .dataframe thead th {\n",
       "        text-align: right;\n",
       "    }\n",
       "</style>\n",
       "<table border=\"1\" class=\"dataframe\">\n",
       "  <thead>\n",
       "    <tr style=\"text-align: right;\">\n",
       "      <th></th>\n",
       "      <th>FIPS</th>\n",
       "      <th>State</th>\n",
       "      <th>County/Borough/Parish</th>\n",
       "      <th>Year</th>\n",
       "      <th>Health_Outcomes_Rank</th>\n",
       "      <th>Yrs_Potential_Life_Lost_per_100K</th>\n",
       "      <th>Percent_Fair/Poor_Health</th>\n",
       "      <th>Percent_Low_Birthweight_Births</th>\n",
       "      <th>Percent_Adult_Smokers</th>\n",
       "      <th>Percent_Adult_Obesity</th>\n",
       "      <th>...</th>\n",
       "      <th>Percent_Age_65_and_over</th>\n",
       "      <th>Percent_Non-Hispanic_Black_or_African_American</th>\n",
       "      <th>Percent_American_Indian_or_Alaskan_Native</th>\n",
       "      <th>Percent_Asian</th>\n",
       "      <th>Percent_Native_Hawaiian_Other_Pacific_Islander</th>\n",
       "      <th>Percent_Hispanic</th>\n",
       "      <th>Percent_Non-Hispanic_White</th>\n",
       "      <th>Percent_Not_Proficient_in_English</th>\n",
       "      <th>Percent_Female</th>\n",
       "      <th>Percent_Rural</th>\n",
       "    </tr>\n",
       "  </thead>\n",
       "  <tbody>\n",
       "    <tr>\n",
       "      <th>0</th>\n",
       "      <td>2013.0</td>\n",
       "      <td>Alaska</td>\n",
       "      <td>Aleutians East</td>\n",
       "      <td>2020</td>\n",
       "      <td>NR</td>\n",
       "      <td>0.0</td>\n",
       "      <td>16.834521</td>\n",
       "      <td>0.0</td>\n",
       "      <td>16.646811</td>\n",
       "      <td>50.5</td>\n",
       "      <td>...</td>\n",
       "      <td>9.217639</td>\n",
       "      <td>10.412518</td>\n",
       "      <td>19.687055</td>\n",
       "      <td>43.357041</td>\n",
       "      <td>1.194879</td>\n",
       "      <td>14.708393</td>\n",
       "      <td>8.591750</td>\n",
       "      <td>13.084112</td>\n",
       "      <td>32.460882</td>\n",
       "      <td>100.0</td>\n",
       "    </tr>\n",
       "    <tr>\n",
       "      <th>1</th>\n",
       "      <td>2060.0</td>\n",
       "      <td>Alaska</td>\n",
       "      <td>Bristol Bay</td>\n",
       "      <td>2020</td>\n",
       "      <td>NR</td>\n",
       "      <td>0.0</td>\n",
       "      <td>15.385269</td>\n",
       "      <td>0.0</td>\n",
       "      <td>18.137644</td>\n",
       "      <td>41.8</td>\n",
       "      <td>...</td>\n",
       "      <td>14.481186</td>\n",
       "      <td>0.798176</td>\n",
       "      <td>32.611174</td>\n",
       "      <td>1.368301</td>\n",
       "      <td>0.342075</td>\n",
       "      <td>7.525656</td>\n",
       "      <td>43.443558</td>\n",
       "      <td>0.000000</td>\n",
       "      <td>46.636260</td>\n",
       "      <td>100.0</td>\n",
       "    </tr>\n",
       "    <tr>\n",
       "      <th>2</th>\n",
       "      <td>2230.0</td>\n",
       "      <td>Alaska</td>\n",
       "      <td>Skagway</td>\n",
       "      <td>2020</td>\n",
       "      <td>NR</td>\n",
       "      <td>0.0</td>\n",
       "      <td>11.604994</td>\n",
       "      <td>0.0</td>\n",
       "      <td>15.584385</td>\n",
       "      <td>32.6</td>\n",
       "      <td>...</td>\n",
       "      <td>14.547038</td>\n",
       "      <td>0.696864</td>\n",
       "      <td>5.139373</td>\n",
       "      <td>2.526132</td>\n",
       "      <td>0.348432</td>\n",
       "      <td>5.487805</td>\n",
       "      <td>81.358885</td>\n",
       "      <td>0.402010</td>\n",
       "      <td>47.996516</td>\n",
       "      <td>0.0</td>\n",
       "    </tr>\n",
       "    <tr>\n",
       "      <th>3</th>\n",
       "      <td>2282.0</td>\n",
       "      <td>Alaska</td>\n",
       "      <td>Yakutat</td>\n",
       "      <td>2020</td>\n",
       "      <td>NR</td>\n",
       "      <td>0.0</td>\n",
       "      <td>16.437249</td>\n",
       "      <td>0.0</td>\n",
       "      <td>19.879947</td>\n",
       "      <td>31.9</td>\n",
       "      <td>...</td>\n",
       "      <td>19.536424</td>\n",
       "      <td>1.986755</td>\n",
       "      <td>39.569536</td>\n",
       "      <td>6.788079</td>\n",
       "      <td>1.324503</td>\n",
       "      <td>4.635762</td>\n",
       "      <td>32.615894</td>\n",
       "      <td>0.797448</td>\n",
       "      <td>44.536424</td>\n",
       "      <td>100.0</td>\n",
       "    </tr>\n",
       "    <tr>\n",
       "      <th>4</th>\n",
       "      <td>8053.0</td>\n",
       "      <td>Colorado</td>\n",
       "      <td>Hinsdale</td>\n",
       "      <td>2020</td>\n",
       "      <td>NR</td>\n",
       "      <td>0.0</td>\n",
       "      <td>12.127612</td>\n",
       "      <td>0.0</td>\n",
       "      <td>12.894843</td>\n",
       "      <td>24.4</td>\n",
       "      <td>...</td>\n",
       "      <td>30.332922</td>\n",
       "      <td>0.616523</td>\n",
       "      <td>1.356350</td>\n",
       "      <td>0.739827</td>\n",
       "      <td>0.000000</td>\n",
       "      <td>6.041924</td>\n",
       "      <td>89.025894</td>\n",
       "      <td>0.000000</td>\n",
       "      <td>48.458693</td>\n",
       "      <td>100.0</td>\n",
       "    </tr>\n",
       "  </tbody>\n",
       "</table>\n",
       "<p>5 rows × 62 columns</p>\n",
       "</div>"
      ],
      "text/plain": [
       "     FIPS     State County/Borough/Parish  Year Health_Outcomes_Rank  \\\n",
       "0  2013.0    Alaska        Aleutians East  2020                   NR   \n",
       "1  2060.0    Alaska           Bristol Bay  2020                   NR   \n",
       "2  2230.0    Alaska               Skagway  2020                   NR   \n",
       "3  2282.0    Alaska               Yakutat  2020                   NR   \n",
       "4  8053.0  Colorado              Hinsdale  2020                   NR   \n",
       "\n",
       "   Yrs_Potential_Life_Lost_per_100K  Percent_Fair/Poor_Health  \\\n",
       "0                               0.0                 16.834521   \n",
       "1                               0.0                 15.385269   \n",
       "2                               0.0                 11.604994   \n",
       "3                               0.0                 16.437249   \n",
       "4                               0.0                 12.127612   \n",
       "\n",
       "   Percent_Low_Birthweight_Births  Percent_Adult_Smokers  \\\n",
       "0                             0.0              16.646811   \n",
       "1                             0.0              18.137644   \n",
       "2                             0.0              15.584385   \n",
       "3                             0.0              19.879947   \n",
       "4                             0.0              12.894843   \n",
       "\n",
       "   Percent_Adult_Obesity  ...  Percent_Age_65_and_over  \\\n",
       "0                   50.5  ...                 9.217639   \n",
       "1                   41.8  ...                14.481186   \n",
       "2                   32.6  ...                14.547038   \n",
       "3                   31.9  ...                19.536424   \n",
       "4                   24.4  ...                30.332922   \n",
       "\n",
       "   Percent_Non-Hispanic_Black_or_African_American  \\\n",
       "0                                       10.412518   \n",
       "1                                        0.798176   \n",
       "2                                        0.696864   \n",
       "3                                        1.986755   \n",
       "4                                        0.616523   \n",
       "\n",
       "   Percent_American_Indian_or_Alaskan_Native  Percent_Asian  \\\n",
       "0                                  19.687055      43.357041   \n",
       "1                                  32.611174       1.368301   \n",
       "2                                   5.139373       2.526132   \n",
       "3                                  39.569536       6.788079   \n",
       "4                                   1.356350       0.739827   \n",
       "\n",
       "   Percent_Native_Hawaiian_Other_Pacific_Islander  Percent_Hispanic  \\\n",
       "0                                        1.194879         14.708393   \n",
       "1                                        0.342075          7.525656   \n",
       "2                                        0.348432          5.487805   \n",
       "3                                        1.324503          4.635762   \n",
       "4                                        0.000000          6.041924   \n",
       "\n",
       "   Percent_Non-Hispanic_White  Percent_Not_Proficient_in_English  \\\n",
       "0                    8.591750                          13.084112   \n",
       "1                   43.443558                           0.000000   \n",
       "2                   81.358885                           0.402010   \n",
       "3                   32.615894                           0.797448   \n",
       "4                   89.025894                           0.000000   \n",
       "\n",
       "   Percent_Female  Percent_Rural  \n",
       "0       32.460882          100.0  \n",
       "1       46.636260          100.0  \n",
       "2       47.996516            0.0  \n",
       "3       44.536424          100.0  \n",
       "4       48.458693          100.0  \n",
       "\n",
       "[5 rows x 62 columns]"
      ]
     },
     "execution_count": 24,
     "metadata": {},
     "output_type": "execute_result"
    }
   ],
   "source": [
    "test__counties_data = pd.read_csv('Cleaned_Files/Test_Data_All_Years_All_Counties.csv')\n",
    "test__counties_data.head()\n"
   ]
  },
  {
   "cell_type": "markdown",
   "metadata": {},
   "source": [
    "### 2019 Test Data "
   ]
  },
  {
   "cell_type": "code",
   "execution_count": 14,
   "metadata": {},
   "outputs": [],
   "source": [
    "Test_Count_2019= test__counties_data[test__counties_data['Year']==2019]"
   ]
  },
  {
   "cell_type": "markdown",
   "metadata": {},
   "source": [
    "### Check in 2019 Test Data number Unique States "
   ]
  },
  {
   "cell_type": "code",
   "execution_count": 15,
   "metadata": {},
   "outputs": [
    {
     "data": {
      "text/plain": [
       "15"
      ]
     },
     "execution_count": 15,
     "metadata": {},
     "output_type": "execute_result"
    }
   ],
   "source": [
    "Test_Count_2019['State'].nunique()"
   ]
  },
  {
   "cell_type": "markdown",
   "metadata": {},
   "source": [
    "### Check in 2019 Test Data number Unique Counties "
   ]
  },
  {
   "cell_type": "code",
   "execution_count": 17,
   "metadata": {},
   "outputs": [
    {
     "data": {
      "text/plain": [
       "59"
      ]
     },
     "execution_count": 17,
     "metadata": {},
     "output_type": "execute_result"
    }
   ],
   "source": [
    "Test_Count_2019['County/Borough/Parish'].nunique()"
   ]
  },
  {
   "cell_type": "markdown",
   "metadata": {},
   "source": [
    "###  Encode categorical fields"
   ]
  },
  {
   "cell_type": "code",
   "execution_count": 30,
   "metadata": {},
   "outputs": [],
   "source": [
    "Test_Count_2019= pd.get_dummies(Test_Count_2019)"
   ]
  },
  {
   "cell_type": "code",
   "execution_count": 21,
   "metadata": {},
   "outputs": [
    {
     "data": {
      "text/plain": [
       "(3132, 1926)"
      ]
     },
     "execution_count": 21,
     "metadata": {},
     "output_type": "execute_result"
    }
   ],
   "source": [
    "Train_Count_2019= pd.get_dummies(Train_Count_2019)\n",
    "Train_Count_2019.shape"
   ]
  },
  {
   "cell_type": "markdown",
   "metadata": {},
   "source": [
    "### Assign data values to X(_Health_Outcomes_Rank) and y(Health Factors) for model training"
   ]
  },
  {
   "cell_type": "markdown",
   "metadata": {},
   "source": [
    "### Assign data values for training data only for 2019 "
   ]
  },
  {
   "cell_type": "code",
   "execution_count": 22,
   "metadata": {},
   "outputs": [],
   "source": [
    "X_train= Train_Count_2019[\"Health_Outcomes_Rank\"]\n",
    "train= Train_Count_2019.drop([\"Health_Outcomes_Rank\"], axis=1)"
   ]
  },
  {
   "cell_type": "markdown",
   "metadata": {},
   "source": [
    "### Assign data values for testing data only for 2019"
   ]
  },
  {
   "cell_type": "code",
   "execution_count": 31,
   "metadata": {},
   "outputs": [],
   "source": [
    "X_test= Test_Count_2019[\"Health_Outcomes_Rank_NR\"]\n",
    "test= Test_Count_2019.drop([\"Health_Outcomes_Rank_NR\"], axis=1)"
   ]
  },
  {
   "cell_type": "markdown",
   "metadata": {},
   "source": [
    "### Create the classifier model "
   ]
  },
  {
   "cell_type": "code",
   "execution_count": 32,
   "metadata": {},
   "outputs": [],
   "source": [
    "from sklearn.ensemble import RandomForestClassifier\n",
    "\n",
    "model = RandomForestClassifier(n_estimators= 100)"
   ]
  },
  {
   "cell_type": "markdown",
   "metadata": {},
   "source": [
    "###  Execute the tuning"
   ]
  },
  {
   "cell_type": "code",
   "execution_count": 33,
   "metadata": {},
   "outputs": [
    {
     "data": {
      "text/plain": [
       "RandomForestClassifier(bootstrap=True, class_weight=None, criterion='gini',\n",
       "                       max_depth=None, max_features='auto', max_leaf_nodes=None,\n",
       "                       min_impurity_decrease=0.0, min_impurity_split=None,\n",
       "                       min_samples_leaf=1, min_samples_split=2,\n",
       "                       min_weight_fraction_leaf=0.0, n_estimators=100,\n",
       "                       n_jobs=None, oob_score=False, random_state=None,\n",
       "                       verbose=0, warm_start=False)"
      ]
     },
     "execution_count": 33,
     "metadata": {},
     "output_type": "execute_result"
    }
   ],
   "source": [
    "model.fit(train, X_train)"
   ]
  },
  {
   "cell_type": "code",
   "execution_count": 34,
   "metadata": {},
   "outputs": [],
   "source": [
    "train_predictions= model.predict(train)"
   ]
  },
  {
   "cell_type": "code",
   "execution_count": 37,
   "metadata": {},
   "outputs": [
    {
     "ename": "ValueError",
     "evalue": "Number of features of the model must match the input. Model n_features is 1925 and input n_features is 135 ",
     "output_type": "error",
     "traceback": [
      "\u001b[0;31m---------------------------------------------------------------------------\u001b[0m",
      "\u001b[0;31mValueError\u001b[0m                                Traceback (most recent call last)",
      "\u001b[0;32m<ipython-input-37-06391b769cca>\u001b[0m in \u001b[0;36m<module>\u001b[0;34m\u001b[0m\n\u001b[0;32m----> 1\u001b[0;31m \u001b[0mpredictions\u001b[0m\u001b[0;34m=\u001b[0m \u001b[0mmodel\u001b[0m\u001b[0;34m.\u001b[0m\u001b[0mpredict\u001b[0m\u001b[0;34m(\u001b[0m\u001b[0mtest\u001b[0m\u001b[0;34m)\u001b[0m\u001b[0;34m\u001b[0m\u001b[0;34m\u001b[0m\u001b[0m\n\u001b[0m",
      "\u001b[0;32m~/anaconda3/lib/python3.7/site-packages/sklearn/ensemble/forest.py\u001b[0m in \u001b[0;36mpredict\u001b[0;34m(self, X)\u001b[0m\n\u001b[1;32m    543\u001b[0m             \u001b[0mThe\u001b[0m \u001b[0mpredicted\u001b[0m \u001b[0mclasses\u001b[0m\u001b[0;34m.\u001b[0m\u001b[0;34m\u001b[0m\u001b[0;34m\u001b[0m\u001b[0m\n\u001b[1;32m    544\u001b[0m         \"\"\"\n\u001b[0;32m--> 545\u001b[0;31m         \u001b[0mproba\u001b[0m \u001b[0;34m=\u001b[0m \u001b[0mself\u001b[0m\u001b[0;34m.\u001b[0m\u001b[0mpredict_proba\u001b[0m\u001b[0;34m(\u001b[0m\u001b[0mX\u001b[0m\u001b[0;34m)\u001b[0m\u001b[0;34m\u001b[0m\u001b[0;34m\u001b[0m\u001b[0m\n\u001b[0m\u001b[1;32m    546\u001b[0m \u001b[0;34m\u001b[0m\u001b[0m\n\u001b[1;32m    547\u001b[0m         \u001b[0;32mif\u001b[0m \u001b[0mself\u001b[0m\u001b[0;34m.\u001b[0m\u001b[0mn_outputs_\u001b[0m \u001b[0;34m==\u001b[0m \u001b[0;36m1\u001b[0m\u001b[0;34m:\u001b[0m\u001b[0;34m\u001b[0m\u001b[0;34m\u001b[0m\u001b[0m\n",
      "\u001b[0;32m~/anaconda3/lib/python3.7/site-packages/sklearn/ensemble/forest.py\u001b[0m in \u001b[0;36mpredict_proba\u001b[0;34m(self, X)\u001b[0m\n\u001b[1;32m    586\u001b[0m         \u001b[0mcheck_is_fitted\u001b[0m\u001b[0;34m(\u001b[0m\u001b[0mself\u001b[0m\u001b[0;34m,\u001b[0m \u001b[0;34m'estimators_'\u001b[0m\u001b[0;34m)\u001b[0m\u001b[0;34m\u001b[0m\u001b[0;34m\u001b[0m\u001b[0m\n\u001b[1;32m    587\u001b[0m         \u001b[0;31m# Check data\u001b[0m\u001b[0;34m\u001b[0m\u001b[0;34m\u001b[0m\u001b[0;34m\u001b[0m\u001b[0m\n\u001b[0;32m--> 588\u001b[0;31m         \u001b[0mX\u001b[0m \u001b[0;34m=\u001b[0m \u001b[0mself\u001b[0m\u001b[0;34m.\u001b[0m\u001b[0m_validate_X_predict\u001b[0m\u001b[0;34m(\u001b[0m\u001b[0mX\u001b[0m\u001b[0;34m)\u001b[0m\u001b[0;34m\u001b[0m\u001b[0;34m\u001b[0m\u001b[0m\n\u001b[0m\u001b[1;32m    589\u001b[0m \u001b[0;34m\u001b[0m\u001b[0m\n\u001b[1;32m    590\u001b[0m         \u001b[0;31m# Assign chunk of trees to jobs\u001b[0m\u001b[0;34m\u001b[0m\u001b[0;34m\u001b[0m\u001b[0;34m\u001b[0m\u001b[0m\n",
      "\u001b[0;32m~/anaconda3/lib/python3.7/site-packages/sklearn/ensemble/forest.py\u001b[0m in \u001b[0;36m_validate_X_predict\u001b[0;34m(self, X)\u001b[0m\n\u001b[1;32m    357\u001b[0m                                  \"call `fit` before exploiting the model.\")\n\u001b[1;32m    358\u001b[0m \u001b[0;34m\u001b[0m\u001b[0m\n\u001b[0;32m--> 359\u001b[0;31m         \u001b[0;32mreturn\u001b[0m \u001b[0mself\u001b[0m\u001b[0;34m.\u001b[0m\u001b[0mestimators_\u001b[0m\u001b[0;34m[\u001b[0m\u001b[0;36m0\u001b[0m\u001b[0;34m]\u001b[0m\u001b[0;34m.\u001b[0m\u001b[0m_validate_X_predict\u001b[0m\u001b[0;34m(\u001b[0m\u001b[0mX\u001b[0m\u001b[0;34m,\u001b[0m \u001b[0mcheck_input\u001b[0m\u001b[0;34m=\u001b[0m\u001b[0;32mTrue\u001b[0m\u001b[0;34m)\u001b[0m\u001b[0;34m\u001b[0m\u001b[0;34m\u001b[0m\u001b[0m\n\u001b[0m\u001b[1;32m    360\u001b[0m \u001b[0;34m\u001b[0m\u001b[0m\n\u001b[1;32m    361\u001b[0m     \u001b[0;34m@\u001b[0m\u001b[0mproperty\u001b[0m\u001b[0;34m\u001b[0m\u001b[0;34m\u001b[0m\u001b[0m\n",
      "\u001b[0;32m~/anaconda3/lib/python3.7/site-packages/sklearn/tree/tree.py\u001b[0m in \u001b[0;36m_validate_X_predict\u001b[0;34m(self, X, check_input)\u001b[0m\n\u001b[1;32m    400\u001b[0m                              \u001b[0;34m\"match the input. Model n_features is %s and \"\u001b[0m\u001b[0;34m\u001b[0m\u001b[0;34m\u001b[0m\u001b[0m\n\u001b[1;32m    401\u001b[0m                              \u001b[0;34m\"input n_features is %s \"\u001b[0m\u001b[0;34m\u001b[0m\u001b[0;34m\u001b[0m\u001b[0m\n\u001b[0;32m--> 402\u001b[0;31m                              % (self.n_features_, n_features))\n\u001b[0m\u001b[1;32m    403\u001b[0m \u001b[0;34m\u001b[0m\u001b[0m\n\u001b[1;32m    404\u001b[0m         \u001b[0;32mreturn\u001b[0m \u001b[0mX\u001b[0m\u001b[0;34m\u001b[0m\u001b[0;34m\u001b[0m\u001b[0m\n",
      "\u001b[0;31mValueError\u001b[0m: Number of features of the model must match the input. Model n_features is 1925 and input n_features is 135 "
     ]
    }
   ],
   "source": [
    "predictions= model.predict(test)"
   ]
  },
  {
   "cell_type": "markdown",
   "metadata": {},
   "source": [
    "### Random Forests in sklearn will automatically calculate feature importance"
   ]
  },
  {
   "cell_type": "code",
   "execution_count": null,
   "metadata": {},
   "outputs": [],
   "source": [
    "importances = grid.feature_importances_\n",
    "importances"
   ]
  },
  {
   "cell_type": "markdown",
   "metadata": {},
   "source": [
    "### Sort the features by their importance"
   ]
  },
  {
   "cell_type": "code",
   "execution_count": null,
   "metadata": {},
   "outputs": [],
   "source": [
    " sorted(zip(model.feature_importances_, X.feature_names), reverse=True) "
   ]
  },
  {
   "cell_type": "markdown",
   "metadata": {},
   "source": [
    "###  View the results"
   ]
  },
  {
   "cell_type": "code",
   "execution_count": null,
   "metadata": {},
   "outputs": [],
   "source": [
    "print(f\"Best parameters: {model.best_params_}\")\n",
    "print(f\"Test set score: {model.score(X_test, test)}\")"
   ]
  }
 ],
 "metadata": {
  "kernelspec": {
   "display_name": "Python 3",
   "language": "python",
   "name": "python3"
  },
  "language_info": {
   "codemirror_mode": {
    "name": "ipython",
    "version": 3
   },
   "file_extension": ".py",
   "mimetype": "text/x-python",
   "name": "python",
   "nbconvert_exporter": "python",
   "pygments_lexer": "ipython3",
   "version": "3.7.3"
  }
 },
 "nbformat": 4,
 "nbformat_minor": 4
}
